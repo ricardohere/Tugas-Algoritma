{
 "cells": [
  {
   "cell_type": "code",
   "execution_count": 1,
   "id": "c6086b58",
   "metadata": {
    "scrolled": true
   },
   "outputs": [
    {
     "name": "stdout",
     "output_type": "stream",
     "text": [
      "Ricardo Disini\n"
     ]
    }
   ],
   "source": [
    "#kegunaan print\n",
    "print(\"Ricardo Disini\")"
   ]
  },
  {
   "cell_type": "code",
   "execution_count": 2,
   "id": "65cf81d7",
   "metadata": {},
   "outputs": [],
   "source": [
    "#membuat nama\n",
    "nama_depan ='anggi'"
   ]
  },
  {
   "cell_type": "code",
   "execution_count": 3,
   "id": "d4841d44",
   "metadata": {},
   "outputs": [],
   "source": [
    "nama_belakang = 'saputra'"
   ]
  },
  {
   "cell_type": "code",
   "execution_count": 4,
   "id": "6bdbfdd5",
   "metadata": {},
   "outputs": [
    {
     "name": "stdout",
     "output_type": "stream",
     "text": [
      "anggi saputra\n"
     ]
    }
   ],
   "source": [
    "print(nama_depan+\" \"+nama_belakang)"
   ]
  },
  {
   "cell_type": "code",
   "execution_count": 2,
   "id": "fdd653a0",
   "metadata": {},
   "outputs": [],
   "source": [
    "mahasiswa_14 = 43"
   ]
  },
  {
   "cell_type": "code",
   "execution_count": 3,
   "id": "04e3ca7c",
   "metadata": {},
   "outputs": [],
   "source": [
    "uang_di_dompet = 10000"
   ]
  },
  {
   "cell_type": "code",
   "execution_count": 4,
   "id": "a52e0463",
   "metadata": {},
   "outputs": [
    {
     "name": "stdout",
     "output_type": "stream",
     "text": [
      "43\n"
     ]
    }
   ],
   "source": [
    "print(mahasiswa_14)"
   ]
  },
  {
   "cell_type": "code",
   "execution_count": 5,
   "id": "859f1914",
   "metadata": {},
   "outputs": [
    {
     "name": "stdout",
     "output_type": "stream",
     "text": [
      "10000\n"
     ]
    }
   ],
   "source": [
    "print(uang_di_dompet)"
   ]
  },
  {
   "cell_type": "code",
   "execution_count": 6,
   "id": "eaeb78f2",
   "metadata": {},
   "outputs": [
    {
     "name": "stdout",
     "output_type": "stream",
     "text": [
      "430000\n"
     ]
    }
   ],
   "source": [
    "print(mahasiswa_14*uang_di_dompet)"
   ]
  },
  {
   "cell_type": "code",
   "execution_count": 7,
   "id": "6bdeab59",
   "metadata": {},
   "outputs": [
    {
     "data": {
      "text/plain": [
       "43"
      ]
     },
     "execution_count": 7,
     "metadata": {},
     "output_type": "execute_result"
    }
   ],
   "source": [
    "mahasiswa_14"
   ]
  },
  {
   "cell_type": "code",
   "execution_count": 11,
   "id": "7559b765",
   "metadata": {},
   "outputs": [
    {
     "name": "stdout",
     "output_type": "stream",
     "text": [
      "Siapakah nama anda? ricardo\n",
      "Apakah kegiatan anda sekarang, ricardo? belajar\n",
      "Semangat belajarnya yaa, ricardo!\n"
     ]
    }
   ],
   "source": [
    "#guna input untuk mengetikkan sesuatu setelah di run\n",
    "nama=input(\"Siapakah nama anda? \")\n",
    "kegiatan=input('Apakah kegiatan anda sekarang, '+nama+\"? \")\n",
    "print(\"Semangat \"+kegiatan+\"nya yaa, \"+nama+\"!\")"
   ]
  },
  {
   "cell_type": "code",
   "execution_count": 12,
   "id": "db92cf92",
   "metadata": {},
   "outputs": [
    {
     "data": {
      "text/plain": [
       "'ricardo'"
      ]
     },
     "execution_count": 12,
     "metadata": {},
     "output_type": "execute_result"
    }
   ],
   "source": [
    "#memanggil elemen yang diinput\n",
    "nama"
   ]
  },
  {
   "cell_type": "code",
   "execution_count": 13,
   "id": "4b03b445",
   "metadata": {},
   "outputs": [
    {
     "data": {
      "text/plain": [
       "'belajar'"
      ]
     },
     "execution_count": 13,
     "metadata": {},
     "output_type": "execute_result"
    }
   ],
   "source": [
    "#memanggil elemen yang diinput\n",
    "kegiatan"
   ]
  },
  {
   "cell_type": "code",
   "execution_count": 17,
   "id": "a7ea77fe",
   "metadata": {},
   "outputs": [],
   "source": [
    "kegiatan = 43"
   ]
  },
  {
   "cell_type": "code",
   "execution_count": 18,
   "id": "d4de8ec9",
   "metadata": {},
   "outputs": [
    {
     "data": {
      "text/plain": [
       "43"
      ]
     },
     "execution_count": 18,
     "metadata": {},
     "output_type": "execute_result"
    }
   ],
   "source": [
    "kegiatan"
   ]
  },
  {
   "cell_type": "code",
   "execution_count": 19,
   "id": "75fb8665",
   "metadata": {},
   "outputs": [
    {
     "name": "stdout",
     "output_type": "stream",
     "text": [
      "siapa nama anda? ricardo\n"
     ]
    }
   ],
   "source": [
    "nama = input(\"siapa nama anda?\"+\" \")"
   ]
  },
  {
   "cell_type": "code",
   "execution_count": 20,
   "id": "599e4b72",
   "metadata": {},
   "outputs": [
    {
     "name": "stdout",
     "output_type": "stream",
     "text": [
      "kegiatan anda sekarang? olahraga\n"
     ]
    }
   ],
   "source": [
    "kegiatan = input(\"kegiatan anda sekarang?\"+\" \")"
   ]
  },
  {
   "cell_type": "code",
   "execution_count": 21,
   "id": "97e5b98d",
   "metadata": {},
   "outputs": [
    {
     "name": "stdout",
     "output_type": "stream",
     "text": [
      "hairicardosemangat yaa olahraganya!!!\n"
     ]
    }
   ],
   "source": [
    "print(\"hai\"+nama+\"semangat yaa\"+\" \"+kegiatan+\"nya\"+\"!!!\")"
   ]
  },
  {
   "cell_type": "code",
   "execution_count": 22,
   "id": "ae73d96e",
   "metadata": {},
   "outputs": [],
   "source": [
    "#guna type data int\n",
    "jumlah_lakilaki = 8"
   ]
  },
  {
   "cell_type": "code",
   "execution_count": 23,
   "id": "14a52d7d",
   "metadata": {},
   "outputs": [],
   "source": [
    "jumlah_perempuan = 10"
   ]
  },
  {
   "cell_type": "code",
   "execution_count": 29,
   "id": "017dbcc5",
   "metadata": {},
   "outputs": [],
   "source": [
    "jumlah = int(jumlah_lakilaki+jumlah_perempuan)"
   ]
  },
  {
   "cell_type": "code",
   "execution_count": 30,
   "id": "6be62d70",
   "metadata": {},
   "outputs": [
    {
     "ename": "TypeError",
     "evalue": "can only concatenate str (not \"int\") to str",
     "output_type": "error",
     "traceback": [
      "\u001b[1;31m---------------------------------------------------------------------------\u001b[0m",
      "\u001b[1;31mTypeError\u001b[0m                                 Traceback (most recent call last)",
      "\u001b[1;32m~\\AppData\\Local\\Temp\\ipykernel_11612\\2263984941.py\u001b[0m in \u001b[0;36m<module>\u001b[1;34m\u001b[0m\n\u001b[1;32m----> 1\u001b[1;33m \u001b[0mprint\u001b[0m\u001b[1;33m(\u001b[0m\u001b[1;34m\"jumlah mahasiswa : \"\u001b[0m\u001b[1;33m+\u001b[0m\u001b[0mjumlah\u001b[0m\u001b[1;33m)\u001b[0m\u001b[1;33m\u001b[0m\u001b[1;33m\u001b[0m\u001b[0m\n\u001b[0m",
      "\u001b[1;31mTypeError\u001b[0m: can only concatenate str (not \"int\") to str"
     ]
    }
   ],
   "source": [
    "#error karena hanya bisa type data string\n",
    "print(\"jumlah mahasiswa : \"+jumlah)"
   ]
  },
  {
   "cell_type": "code",
   "execution_count": 36,
   "id": "be046505",
   "metadata": {},
   "outputs": [],
   "source": [
    "jumlah = int(jumlah_lakilaki)+int(jumlah_perempuan)"
   ]
  },
  {
   "cell_type": "code",
   "execution_count": 34,
   "id": "672afb7c",
   "metadata": {},
   "outputs": [
    {
     "data": {
      "text/plain": [
       "18"
      ]
     },
     "execution_count": 34,
     "metadata": {},
     "output_type": "execute_result"
    }
   ],
   "source": [
    "jumlah"
   ]
  },
  {
   "cell_type": "code",
   "execution_count": 37,
   "id": "ff8d6dcb",
   "metadata": {},
   "outputs": [
    {
     "name": "stdout",
     "output_type": "stream",
     "text": [
      "total mahasiswa : 18\n"
     ]
    }
   ],
   "source": [
    "print(\"total mahasiswa :\"+\" \"+str(jumlah))"
   ]
  },
  {
   "cell_type": "code",
   "execution_count": 40,
   "id": "d54d690c",
   "metadata": {},
   "outputs": [
    {
     "name": "stdout",
     "output_type": "stream",
     "text": [
      "berapa siswa laki laki = 2\n",
      "berapa siswa perempuan = 3\n",
      "total mahasiwa = 5\n"
     ]
    }
   ],
   "source": [
    "jum_laki = input(\"berapa siswa laki laki = \")\n",
    "jum_per = input (\"berapa siswa perempuan = \")\n",
    "jumlah_total = int(jum_laki)+int(jum_per)\n",
    "print(\"total mahasiwa = \"+ str(jumlah_total))"
   ]
  },
  {
   "cell_type": "code",
   "execution_count": 43,
   "id": "7744a602",
   "metadata": {},
   "outputs": [
    {
     "name": "stdout",
     "output_type": "stream",
     "text": [
      "berapa uang anda?22\n",
      "total tabungan anda? 33\n",
      "total uang anda 55\n"
     ]
    }
   ],
   "source": [
    "#type int\n",
    "dompet= int(input(\"berapa uang anda?\"))\n",
    "tabungan= int(input(\"total tabungan anda? \"))\n",
    "#total = int(dompet)+int(tabungan)\n",
    "print(\"total uang anda \"+ str(dompet+tabungan))"
   ]
  },
  {
   "cell_type": "code",
   "execution_count": 44,
   "id": "e47a5ab9",
   "metadata": {},
   "outputs": [
    {
     "name": "stdout",
     "output_type": "stream",
     "text": [
      "berapa siswa laki laki = 22\n",
      "berapa siswa perempuan = 33\n"
     ]
    },
    {
     "ename": "TypeError",
     "evalue": "can only concatenate str (not \"int\") to str",
     "output_type": "error",
     "traceback": [
      "\u001b[1;31m---------------------------------------------------------------------------\u001b[0m",
      "\u001b[1;31mTypeError\u001b[0m                                 Traceback (most recent call last)",
      "\u001b[1;32m~\\AppData\\Local\\Temp\\ipykernel_11612\\1778889538.py\u001b[0m in \u001b[0;36m<module>\u001b[1;34m\u001b[0m\n\u001b[0;32m      1\u001b[0m \u001b[0mjum_laki\u001b[0m \u001b[1;33m=\u001b[0m \u001b[0minput\u001b[0m\u001b[1;33m(\u001b[0m\u001b[1;34m\"berapa siswa laki laki = \"\u001b[0m\u001b[1;33m)\u001b[0m\u001b[1;33m\u001b[0m\u001b[1;33m\u001b[0m\u001b[0m\n\u001b[0;32m      2\u001b[0m \u001b[0mjum_per\u001b[0m \u001b[1;33m=\u001b[0m \u001b[0minput\u001b[0m \u001b[1;33m(\u001b[0m\u001b[1;34m\"berapa siswa perempuan = \"\u001b[0m\u001b[1;33m)\u001b[0m\u001b[1;33m\u001b[0m\u001b[1;33m\u001b[0m\u001b[0m\n\u001b[1;32m----> 3\u001b[1;33m \u001b[0mprint\u001b[0m\u001b[1;33m(\u001b[0m\u001b[1;34m\"total mahasiwa = \"\u001b[0m\u001b[1;33m+\u001b[0m \u001b[0mint\u001b[0m\u001b[1;33m(\u001b[0m\u001b[0mjum_laki\u001b[0m\u001b[1;33m+\u001b[0m\u001b[0mjum_per\u001b[0m\u001b[1;33m)\u001b[0m\u001b[1;33m)\u001b[0m\u001b[1;33m\u001b[0m\u001b[1;33m\u001b[0m\u001b[0m\n\u001b[0m",
      "\u001b[1;31mTypeError\u001b[0m: can only concatenate str (not \"int\") to str"
     ]
    }
   ],
   "source": [
    "#error karena menggunakan type data yang salah\n",
    "jum_laki = input(\"berapa siswa laki laki = \")\n",
    "jum_per = input (\"berapa siswa perempuan = \")\n",
    "print(\"total mahasiwa = \"+ int(jum_laki+jum_per))"
   ]
  },
  {
   "cell_type": "code",
   "execution_count": 45,
   "id": "82bc381b",
   "metadata": {},
   "outputs": [
    {
     "name": "stdout",
     "output_type": "stream",
     "text": [
      "berapa siswa laki laki = 22\n",
      "berapa siswa perempuan = 33\n",
      "total mahasiwa = 2233\n"
     ]
    }
   ],
   "source": [
    "#type str\n",
    "jum_laki = input(\"berapa siswa laki laki = \")\n",
    "jum_per = input (\"berapa siswa perempuan = \")\n",
    "print(\"total mahasiwa = \"+ str(jum_laki+jum_per))"
   ]
  },
  {
   "cell_type": "code",
   "execution_count": 47,
   "id": "a54f3786",
   "metadata": {},
   "outputs": [
    {
     "name": "stdout",
     "output_type": "stream",
     "text": [
      "berapa siswa laki laki = 22\n",
      "berapa siswa perempuan = 33\n",
      "total mahasiwa = 55\n"
     ]
    }
   ],
   "source": [
    "#type int\n",
    "jum_laki = int(input(\"berapa siswa laki laki = \"))\n",
    "jum_per = int(input (\"berapa siswa perempuan = \"))\n",
    "print(\"total mahasiwa = \"+ str(jum_laki+jum_per))"
   ]
  },
  {
   "cell_type": "code",
   "execution_count": 48,
   "id": "8e55a38a",
   "metadata": {},
   "outputs": [
    {
     "name": "stdout",
     "output_type": "stream",
     "text": [
      "berapa siswa laki laki = 22\n",
      "berapa siswa perempuan = 33\n"
     ]
    },
    {
     "ename": "TypeError",
     "evalue": "can only concatenate str (not \"int\") to str",
     "output_type": "error",
     "traceback": [
      "\u001b[1;31m---------------------------------------------------------------------------\u001b[0m",
      "\u001b[1;31mTypeError\u001b[0m                                 Traceback (most recent call last)",
      "\u001b[1;32m~\\AppData\\Local\\Temp\\ipykernel_11612\\1778889538.py\u001b[0m in \u001b[0;36m<module>\u001b[1;34m\u001b[0m\n\u001b[0;32m      1\u001b[0m \u001b[0mjum_laki\u001b[0m \u001b[1;33m=\u001b[0m \u001b[0minput\u001b[0m\u001b[1;33m(\u001b[0m\u001b[1;34m\"berapa siswa laki laki = \"\u001b[0m\u001b[1;33m)\u001b[0m\u001b[1;33m\u001b[0m\u001b[1;33m\u001b[0m\u001b[0m\n\u001b[0;32m      2\u001b[0m \u001b[0mjum_per\u001b[0m \u001b[1;33m=\u001b[0m \u001b[0minput\u001b[0m \u001b[1;33m(\u001b[0m\u001b[1;34m\"berapa siswa perempuan = \"\u001b[0m\u001b[1;33m)\u001b[0m\u001b[1;33m\u001b[0m\u001b[1;33m\u001b[0m\u001b[0m\n\u001b[1;32m----> 3\u001b[1;33m \u001b[0mprint\u001b[0m\u001b[1;33m(\u001b[0m\u001b[1;34m\"total mahasiwa = \"\u001b[0m\u001b[1;33m+\u001b[0m \u001b[0mint\u001b[0m\u001b[1;33m(\u001b[0m\u001b[0mjum_laki\u001b[0m\u001b[1;33m+\u001b[0m\u001b[0mjum_per\u001b[0m\u001b[1;33m)\u001b[0m\u001b[1;33m)\u001b[0m\u001b[1;33m\u001b[0m\u001b[1;33m\u001b[0m\u001b[0m\n\u001b[0m",
      "\u001b[1;31mTypeError\u001b[0m: can only concatenate str (not \"int\") to str"
     ]
    }
   ],
   "source": [
    "#error karena salah penggunaan type data dan penulisan\n",
    "jum_laki = input(\"berapa siswa laki laki = \")\n",
    "jum_per = input (\"berapa siswa perempuan = \")\n",
    "print(\"total mahasiwa = \"+ int(jum_laki+jum_per))"
   ]
  },
  {
   "cell_type": "code",
   "execution_count": 1,
   "id": "1924e102",
   "metadata": {},
   "outputs": [
    {
     "name": "stdout",
     "output_type": "stream",
     "text": [
      "nilai pertama? 22\n",
      "nilai kedua? 22\n",
      "nilai ketiga? 22\n",
      "Total nilai anda : 66\n"
     ]
    }
   ],
   "source": [
    "#untuk type int diluar dari nilai yang mau ditambahkan\n",
    "nilai1=input(\"nilai pertama? \")\n",
    "nilai2=input(\"nilai kedua? \")\n",
    "nilai3=input(\"nilai ketiga? \")\n",
    "total_nilai=int(nilai1)+int(nilai2)+int(nilai3)\n",
    "print(\"Total nilai anda : \"+ str(total_nilai))"
   ]
  },
  {
   "cell_type": "code",
   "execution_count": 2,
   "id": "53cf6106",
   "metadata": {},
   "outputs": [
    {
     "name": "stdout",
     "output_type": "stream",
     "text": [
      "Nama : ricardo\n",
      "Pekerjaan : pelajar\n",
      "Institusi : udayana\n",
      "ricardo adalah seorang pelajar di udayana\n"
     ]
    }
   ],
   "source": [
    "#fungsi formatted string untuk menggantikan tanda (+) diganti f\n",
    "nama=input(\"Nama : \")\n",
    "kerja=input(\"Pekerjaan : \")\n",
    "institusi=input(\"Institusi : \")\n",
    "print(f\"{nama} adalah seorang {kerja} di {institusi}\")"
   ]
  },
  {
   "cell_type": "code",
   "execution_count": null,
   "id": "10c177fd",
   "metadata": {},
   "outputs": [],
   "source": []
  }
 ],
 "metadata": {
  "kernelspec": {
   "display_name": "Python 3 (ipykernel)",
   "language": "python",
   "name": "python3"
  },
  "language_info": {
   "codemirror_mode": {
    "name": "ipython",
    "version": 3
   },
   "file_extension": ".py",
   "mimetype": "text/x-python",
   "name": "python",
   "nbconvert_exporter": "python",
   "pygments_lexer": "ipython3",
   "version": "3.9.13"
  }
 },
 "nbformat": 4,
 "nbformat_minor": 5
}
