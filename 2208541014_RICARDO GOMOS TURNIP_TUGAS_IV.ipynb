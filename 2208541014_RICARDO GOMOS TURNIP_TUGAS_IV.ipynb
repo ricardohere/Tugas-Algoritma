{
 "cells": [
  {
   "cell_type": "markdown",
   "id": "41a04394",
   "metadata": {},
   "source": [
    "# while"
   ]
  },
  {
   "cell_type": "markdown",
   "id": "456e2148",
   "metadata": {},
   "source": [
    "Fungsi while sama seperti for jika sesuai syarat maka program dijalankan"
   ]
  },
  {
   "cell_type": "code",
   "execution_count": 12,
   "id": "af8264c5",
   "metadata": {},
   "outputs": [
    {
     "name": "stdout",
     "output_type": "stream",
     "text": [
      "0\n",
      "-1\n",
      "1\n",
      "-2\n",
      "4\n",
      "-3\n",
      "4\n"
     ]
    }
   ],
   "source": [
    "#untuk melihat oalahan datanya taro print di dalam while\n",
    "x = 0\n",
    "while -3<x<2:\n",
    "    y=x**2\n",
    "    print(y)\n",
    "    x=x-1\n",
    "    print(x)\n",
    "print(y)"
   ]
  },
  {
   "cell_type": "code",
   "execution_count": 18,
   "id": "00dbf1dc",
   "metadata": {
    "scrolled": true
   },
   "outputs": [
    {
     "name": "stdout",
     "output_type": "stream",
     "text": [
      "Angka 2 ada dibawah sama dengan 7 \n",
      "Angka 3 ada dibawah sama dengan 7 \n",
      "Angka 4 ada dibawah sama dengan 7 \n",
      "Angka 5 ada dibawah sama dengan 7 \n",
      "Angka 6 ada dibawah sama dengan 7 \n"
     ]
    }
   ],
   "source": [
    "a = 2\n",
    "while 1<a<7:\n",
    "    print(\"Angka \"+ str(a) + \" ada dibawah sama dengan 7 \")\n",
    "    a += 1\n"
   ]
  },
  {
   "cell_type": "code",
   "execution_count": 19,
   "id": "7b157b9d",
   "metadata": {},
   "outputs": [
    {
     "name": "stdout",
     "output_type": "stream",
     "text": [
      "**\n",
      "***\n",
      "****\n",
      "*****\n",
      "******\n"
     ]
    }
   ],
   "source": [
    "a = 2\n",
    "while 1<a<7:\n",
    "    print(a*'*')\n",
    "    a += 1\n"
   ]
  },
  {
   "cell_type": "markdown",
   "id": "201f437b",
   "metadata": {},
   "source": [
    "# List"
   ]
  },
  {
   "cell_type": "markdown",
   "id": "1921832c",
   "metadata": {},
   "source": [
    "List dapat mengeluarkan objek pada phyton baik itu string atau angka"
   ]
  },
  {
   "cell_type": "code",
   "execution_count": 1,
   "id": "faba4f9a",
   "metadata": {},
   "outputs": [
    {
     "name": "stdout",
     "output_type": "stream",
     "text": [
      "[1, 2, 3, 4]\n"
     ]
    }
   ],
   "source": [
    "angka = [1,2,3,4]\n",
    "print(angka)"
   ]
  },
  {
   "cell_type": "code",
   "execution_count": 4,
   "id": "cb9f717b",
   "metadata": {},
   "outputs": [
    {
     "name": "stdout",
     "output_type": "stream",
     "text": [
      "3\n"
     ]
    }
   ],
   "source": [
    "#untuk memanggil salah satu objek pada list\n",
    "print(angka[2])"
   ]
  },
  {
   "cell_type": "code",
   "execution_count": 5,
   "id": "8ccdda04",
   "metadata": {},
   "outputs": [
    {
     "name": "stdout",
     "output_type": "stream",
     "text": [
      "[-1, 2, 3, 4, 5]\n"
     ]
    }
   ],
   "source": [
    "#untuk menambahkan objek dalam list dan pada urutan yang diinginkan\n",
    "angka[0]= -1\n",
    "print(angka)"
   ]
  },
  {
   "cell_type": "code",
   "execution_count": 8,
   "id": "0ab926dd",
   "metadata": {},
   "outputs": [
    {
     "name": "stdout",
     "output_type": "stream",
     "text": [
      "[-1, 2, 3]\n"
     ]
    }
   ],
   "source": [
    "#memanggil objek pada urutan yang diinginkan\n",
    "print(angka[0:3])"
   ]
  },
  {
   "cell_type": "code",
   "execution_count": 10,
   "id": "3e1b6ef6",
   "metadata": {},
   "outputs": [
    {
     "name": "stdout",
     "output_type": "stream",
     "text": [
      "[-1, 2, 3, 4, 5]\n"
     ]
    }
   ],
   "source": [
    "print(angka)"
   ]
  },
  {
   "cell_type": "markdown",
   "id": "bdf5e755",
   "metadata": {},
   "source": [
    "# Metoda List\n"
   ]
  },
  {
   "cell_type": "markdown",
   "id": "a02b3951",
   "metadata": {},
   "source": [
    "Metoda list berguna untuk mengubah atau menambahkan sesuatu pada list"
   ]
  },
  {
   "cell_type": "code",
   "execution_count": 17,
   "id": "015584bb",
   "metadata": {},
   "outputs": [
    {
     "name": "stdout",
     "output_type": "stream",
     "text": [
      "['satu', 'dua', 'tiga']\n"
     ]
    }
   ],
   "source": [
    "kata = ['satu','dua','tiga']\n",
    "print(kata)"
   ]
  },
  {
   "cell_type": "code",
   "execution_count": 18,
   "id": "6b15e09d",
   "metadata": {},
   "outputs": [
    {
     "name": "stdout",
     "output_type": "stream",
     "text": [
      "['satu', 'dua', 'tiga', 'empat']\n"
     ]
    }
   ],
   "source": [
    "#append untuk menambahkan objek\n",
    "kata.append(\"empat\")\n",
    "print(kata)"
   ]
  },
  {
   "cell_type": "code",
   "execution_count": 19,
   "id": "b55df49a",
   "metadata": {},
   "outputs": [
    {
     "name": "stdout",
     "output_type": "stream",
     "text": [
      "['satu', 'dua', 'dua setengah', 'tiga', 'empat']\n"
     ]
    }
   ],
   "source": [
    "##insert untuk menambahkan objek di urutan yang diinginkan\n",
    "kata.insert(2, 'dua setengah')\n",
    "print(kata)"
   ]
  },
  {
   "cell_type": "code",
   "execution_count": 20,
   "id": "9eecffb5",
   "metadata": {},
   "outputs": [
    {
     "name": "stdout",
     "output_type": "stream",
     "text": [
      "['satu', 'dua', 'dua setengah', 'tiga']\n"
     ]
    }
   ],
   "source": [
    "#remove untuk mengurangi objek\n",
    "kata.remove('empat')\n",
    "print(kata)"
   ]
  },
  {
   "cell_type": "code",
   "execution_count": 21,
   "id": "7afae030",
   "metadata": {},
   "outputs": [
    {
     "name": "stdout",
     "output_type": "stream",
     "text": [
      "False\n"
     ]
    }
   ],
   "source": [
    "print('empat'in kata)"
   ]
  },
  {
   "cell_type": "code",
   "execution_count": 22,
   "id": "dd395ae8",
   "metadata": {},
   "outputs": [
    {
     "name": "stdout",
     "output_type": "stream",
     "text": [
      "4\n"
     ]
    }
   ],
   "source": [
    "print(len(kata))"
   ]
  },
  {
   "cell_type": "markdown",
   "id": "ea09bae5",
   "metadata": {},
   "source": [
    "# For loop"
   ]
  },
  {
   "cell_type": "markdown",
   "id": "2d87339f",
   "metadata": {},
   "source": [
    "for loop untuk memanggil semua isi list"
   ]
  },
  {
   "cell_type": "code",
   "execution_count": 23,
   "id": "e22b2ec5",
   "metadata": {},
   "outputs": [
    {
     "name": "stdout",
     "output_type": "stream",
     "text": [
      "satu\n",
      "dua\n",
      "dua setengah\n",
      "tiga\n"
     ]
    }
   ],
   "source": [
    "for huruf in kata:\n",
    "    print(huruf)"
   ]
  },
  {
   "cell_type": "code",
   "execution_count": 24,
   "id": "73c4c673",
   "metadata": {},
   "outputs": [],
   "source": [
    "kata.remove('dua setengah')"
   ]
  },
  {
   "cell_type": "code",
   "execution_count": 25,
   "id": "51f6376a",
   "metadata": {},
   "outputs": [
    {
     "name": "stdout",
     "output_type": "stream",
     "text": [
      "satu\n",
      "dua\n",
      "tiga\n"
     ]
    }
   ],
   "source": [
    "i = 0\n",
    "while i < len (kata):\n",
    "    print(kata[i])\n",
    "    i+=1"
   ]
  },
  {
   "cell_type": "markdown",
   "id": "bfc3a063",
   "metadata": {},
   "source": [
    "# Range"
   ]
  },
  {
   "cell_type": "markdown",
   "id": "e307bd7c",
   "metadata": {},
   "source": [
    "untuk menggunakan range harus dikombinasikan dengan for loop"
   ]
  },
  {
   "cell_type": "code",
   "execution_count": 31,
   "id": "f2c4c68c",
   "metadata": {},
   "outputs": [
    {
     "name": "stdout",
     "output_type": "stream",
     "text": [
      "[2, 4, 3, 6, 8, 4, 23, 4, 5, 6]\n"
     ]
    }
   ],
   "source": [
    "angka = [2,4,3,6,8,4,23,4,5,6]\n",
    "print(angka)"
   ]
  },
  {
   "cell_type": "code",
   "execution_count": 32,
   "id": "61ffadcc",
   "metadata": {},
   "outputs": [
    {
     "name": "stdout",
     "output_type": "stream",
     "text": [
      "range(0, 6)\n"
     ]
    }
   ],
   "source": [
    "angka = range(6)\n",
    "print(angka)"
   ]
  },
  {
   "cell_type": "code",
   "execution_count": 33,
   "id": "79eb89e3",
   "metadata": {},
   "outputs": [
    {
     "name": "stdout",
     "output_type": "stream",
     "text": [
      "0\n",
      "1\n",
      "2\n",
      "3\n",
      "4\n",
      "5\n"
     ]
    }
   ],
   "source": [
    "for banyak in angka:\n",
    "    print(banyak)"
   ]
  },
  {
   "cell_type": "code",
   "execution_count": 36,
   "id": "bdcc7a02",
   "metadata": {},
   "outputs": [
    {
     "name": "stdout",
     "output_type": "stream",
     "text": [
      "range(0, 10)\n"
     ]
    }
   ],
   "source": [
    "angka = range(10)\n",
    "print(angka)"
   ]
  },
  {
   "cell_type": "code",
   "execution_count": 39,
   "id": "6ebcc4a8",
   "metadata": {},
   "outputs": [
    {
     "name": "stdout",
     "output_type": "stream",
     "text": [
      "0\n",
      "1\n",
      "2\n",
      "3\n",
      "4\n",
      "5\n",
      "6\n",
      "7\n",
      "8\n",
      "9\n"
     ]
    }
   ],
   "source": [
    "for banyak in angka:\n",
    "    print(banyak)"
   ]
  }
 ],
 "metadata": {
  "kernelspec": {
   "display_name": "Python 3 (ipykernel)",
   "language": "python",
   "name": "python3"
  },
  "language_info": {
   "codemirror_mode": {
    "name": "ipython",
    "version": 3
   },
   "file_extension": ".py",
   "mimetype": "text/x-python",
   "name": "python",
   "nbconvert_exporter": "python",
   "pygments_lexer": "ipython3",
   "version": "3.9.13"
  }
 },
 "nbformat": 4,
 "nbformat_minor": 5
}
