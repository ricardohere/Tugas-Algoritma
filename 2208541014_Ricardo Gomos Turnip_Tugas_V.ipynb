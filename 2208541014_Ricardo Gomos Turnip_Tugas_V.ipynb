{
 "cells": [
  {
   "cell_type": "markdown",
   "id": "0af4619b",
   "metadata": {},
   "source": [
    "# 5.15 List 2 Dimensi"
   ]
  },
  {
   "cell_type": "code",
   "execution_count": 2,
   "id": "b7d59e06",
   "metadata": {},
   "outputs": [
    {
     "name": "stdout",
     "output_type": "stream",
     "text": [
      "memanggil baris 2,yaitu :  [4, 5, 6]\n",
      "memanggil baris 1 kolom 2,yaitu :  2\n"
     ]
    }
   ],
   "source": [
    "#Pertama membuat variabel untuk list\n",
    "nomor_punggung = [[1,2,3],\n",
    "                 [4,5,6],\n",
    "                 [7,8,9]]\n",
    "#penggambaran list sama seperti matriks yang dibaca oleh phyton\n",
    "#baris dimulai dari 0,1,2 dst dan kolom dimulai dari 0,1,2 dst\n",
    "print(\"memanggil baris 2,yaitu : \", nomor_punggung[1])\n",
    "#baris yang muncul adalah baris 2 karena dimulai dari 0\n",
    "print(\"memanggil baris 1 kolom 2,yaitu : \", nomor_punggung[0][1])\n",
    "#list 2 dimensi beralaku Aij"
   ]
  },
  {
   "cell_type": "code",
   "execution_count": 4,
   "id": "94ad13d3",
   "metadata": {},
   "outputs": [
    {
     "name": "stdout",
     "output_type": "stream",
     "text": [
      "10\n"
     ]
    }
   ],
   "source": [
    "#kita dapat mengubah isi dalam list secara spesifikasi dengan perintah sebagai berikut\n",
    "nomor_punggung[0][1]=10\n",
    "#angka yang seharusnya 2 diubah menjadi 10\n",
    "print(nomor_punggung [0][1])\n",
    "#dengan kotak pertama sebagai baris dan kotak kedua sebagai kolom"
   ]
  },
  {
   "cell_type": "code",
   "execution_count": 5,
   "id": "533eca8b",
   "metadata": {},
   "outputs": [
    {
     "name": "stdout",
     "output_type": "stream",
     "text": [
      "[1, 10, 3]\n",
      "1\n",
      "10\n",
      "3\n",
      "[4, 5, 6]\n",
      "4\n",
      "5\n",
      "6\n",
      "[7, 8, 9]\n",
      "7\n",
      "8\n",
      "9\n"
     ]
    }
   ],
   "source": [
    "#kita dapat memanggil anggota pada list dengan menggunakan for\n",
    "for angka in nomor_punggung:\n",
    "    print(angka)\n",
    "    for nomor_punggung in angka:\n",
    "        print (nomor_punggung)\n",
    "#penggunaan for ini memberitahu setiap elemen yang ada pada baris\n",
    "#sehingga posisi turun dapat dibawa baris 0 kolom 0 adalah satu dan seterusnya sampai baris 2 kolom 2"
   ]
  },
  {
   "cell_type": "markdown",
   "id": "7188aee3",
   "metadata": {},
   "source": [
    "# 5.16 Tuples"
   ]
  },
  {
   "cell_type": "code",
   "execution_count": 7,
   "id": "51a2c2ad",
   "metadata": {},
   "outputs": [],
   "source": [
    "#tuples data yang tidak dapat diubah lagi elemen didalamnnya\n",
    "#contohnya seperti berikut\n",
    "angka = (2,4,8,16,32,64)\n",
    "#elemen yang sudah diisi disini tidak dapat dirubah lagi kedepannya"
   ]
  },
  {
   "cell_type": "code",
   "execution_count": 15,
   "id": "ab80973d",
   "metadata": {},
   "outputs": [
    {
     "name": "stdout",
     "output_type": "stream",
     "text": [
      "elemen elemen pada variabel angka\n",
      " (2, 4, 8, 16, 32, 64)\n",
      "memanggil elemen berapapun yang diinginkan\n",
      " 8\n",
      "elemen urutan 3 hingga seluruhnya \n",
      " (8, 16, 32, 64)\n"
     ]
    }
   ],
   "source": [
    "#memanggil elemen yang ada pada variabel\n",
    "print(\"elemen elemen pada variabel angka\\n\",angka)\n",
    "#kita juga dapat memanggil elemen yang diinginkan dengan perintah kotak seperti list:\n",
    "print(\"memanggil elemen berapapun yang diinginkan\\n\",angka[2])\n",
    "#urutan yang dipakai sama seperti sebelumnya yaitu dimulai dari 0\n",
    "#kita juga dapat memanggil elemen lebih dari 1 dan yang diinginkan\n",
    "print(\"elemen urutan 3 hingga seluruhnya \\n\", angka[2:])\n"
   ]
  },
  {
   "cell_type": "code",
   "execution_count": 27,
   "id": "ffe4bde3",
   "metadata": {},
   "outputs": [
    {
     "name": "stdout",
     "output_type": "stream",
     "text": [
      "elemen dari urutan ke 2 pada phyton hingga terakhir 8\n",
      "elemen dari urutan ke 2 pada phyton hingga terakhir 16\n",
      "elemen dari urutan ke 2 pada phyton hingga terakhir 32\n",
      "elemen dari urutan ke 2 pada phyton hingga terakhir 64\n"
     ]
    }
   ],
   "source": [
    "#memanggil elemen pada variabel dan memberitahu elemen yang ada didalam variabel\n",
    "for bilangan in angka [2:] :\n",
    "    print (\"elemen dari urutan ke 2 pada phyton hingga terakhir \"+str(bilangan))\n"
   ]
  },
  {
   "cell_type": "code",
   "execution_count": 32,
   "id": "5e45decd",
   "metadata": {},
   "outputs": [
    {
     "ename": "SyntaxError",
     "evalue": "expression cannot contain assignment, perhaps you meant \"==\"? (632526195.py, line 3)",
     "output_type": "error",
     "traceback": [
      "\u001b[1;36m  File \u001b[1;32m\"C:\\Users\\Ricardo\\AppData\\Local\\Temp\\ipykernel_5908\\632526195.py\"\u001b[1;36m, line \u001b[1;32m3\u001b[0m\n\u001b[1;33m    print (angka [0] = 128)\u001b[0m\n\u001b[1;37m           ^\u001b[0m\n\u001b[1;31mSyntaxError\u001b[0m\u001b[1;31m:\u001b[0m expression cannot contain assignment, perhaps you meant \"==\"?\n"
     ]
    }
   ],
   "source": [
    "#berikut adalah contoh tples yang tidak dapat diubah. isi pada variabel tidak dapat diubah\n",
    "#perintah berikut adalah mencoba untuk mengubah isi variabel tuples\n",
    "print (angka [0] = 128)"
   ]
  },
  {
   "cell_type": "code",
   "execution_count": 29,
   "id": "423e5eea",
   "metadata": {},
   "outputs": [
    {
     "ename": "AttributeError",
     "evalue": "'tuple' object has no attribute 'append'",
     "output_type": "error",
     "traceback": [
      "\u001b[1;31m---------------------------------------------------------------------------\u001b[0m",
      "\u001b[1;31mAttributeError\u001b[0m                            Traceback (most recent call last)",
      "\u001b[1;32m~\\AppData\\Local\\Temp\\ipykernel_5908\\3115696698.py\u001b[0m in \u001b[0;36m<module>\u001b[1;34m\u001b[0m\n\u001b[0;32m      1\u001b[0m \u001b[1;31m#perintah berikut adalah untuk menambahkan elemen pada variabel tuples\u001b[0m\u001b[1;33m\u001b[0m\u001b[1;33m\u001b[0m\u001b[0m\n\u001b[1;32m----> 2\u001b[1;33m \u001b[0mprint\u001b[0m \u001b[1;33m(\u001b[0m\u001b[0mangka\u001b[0m\u001b[1;33m.\u001b[0m\u001b[0mappend\u001b[0m\u001b[1;33m(\u001b[0m\u001b[1;36m128\u001b[0m\u001b[1;33m)\u001b[0m\u001b[1;33m)\u001b[0m\u001b[1;33m\u001b[0m\u001b[1;33m\u001b[0m\u001b[0m\n\u001b[0m",
      "\u001b[1;31mAttributeError\u001b[0m: 'tuple' object has no attribute 'append'"
     ]
    }
   ],
   "source": [
    "#perintah berikut adalah untuk menambahkan elemen pada variabel tuples\n",
    "print (angka.append(128))"
   ]
  },
  {
   "cell_type": "code",
   "execution_count": 30,
   "id": "b09bb3fa",
   "metadata": {},
   "outputs": [
    {
     "ename": "AttributeError",
     "evalue": "'tuple' object has no attribute 'remove'",
     "output_type": "error",
     "traceback": [
      "\u001b[1;31m---------------------------------------------------------------------------\u001b[0m",
      "\u001b[1;31mAttributeError\u001b[0m                            Traceback (most recent call last)",
      "\u001b[1;32m~\\AppData\\Local\\Temp\\ipykernel_5908\\1158369371.py\u001b[0m in \u001b[0;36m<module>\u001b[1;34m\u001b[0m\n\u001b[0;32m      1\u001b[0m \u001b[1;31m#perintah berikut adalah untuk mengurangi elemen pada variabel tuples\u001b[0m\u001b[1;33m\u001b[0m\u001b[1;33m\u001b[0m\u001b[0m\n\u001b[1;32m----> 2\u001b[1;33m \u001b[0mprint\u001b[0m \u001b[1;33m(\u001b[0m\u001b[0mangka\u001b[0m\u001b[1;33m.\u001b[0m\u001b[0mremove\u001b[0m\u001b[1;33m(\u001b[0m\u001b[1;36m5\u001b[0m\u001b[1;33m)\u001b[0m\u001b[1;33m)\u001b[0m\u001b[1;33m\u001b[0m\u001b[1;33m\u001b[0m\u001b[0m\n\u001b[0m",
      "\u001b[1;31mAttributeError\u001b[0m: 'tuple' object has no attribute 'remove'"
     ]
    }
   ],
   "source": [
    "#perintah berikut adalah untuk mengurangi elemen pada variabel tuples\n",
    "print (angka.remove(5))"
   ]
  },
  {
   "cell_type": "markdown",
   "id": "74378510",
   "metadata": {},
   "source": [
    "Error adalah bukti tuples tidak dapat diubah isi elemen elemennya"
   ]
  },
  {
   "cell_type": "code",
   "execution_count": 33,
   "id": "210ac53b",
   "metadata": {},
   "outputs": [],
   "source": [
    "#membuat variabel baru\n",
    "urutan_berulang = (1,2,3,3,2,1,2,3,1)"
   ]
  },
  {
   "cell_type": "code",
   "execution_count": 34,
   "id": "9682f7cb",
   "metadata": {},
   "outputs": [
    {
     "data": {
      "text/plain": [
       "3"
      ]
     },
     "execution_count": 34,
     "metadata": {},
     "output_type": "execute_result"
    }
   ],
   "source": [
    "#kita dapat mengitung ada berapa angka yang sama pada variabel dengan menggunakan\n",
    "urutan_berulang.count(3)\n",
    "#output yang muncul adalah banyaknya angka yang sama dalam variabel"
   ]
  },
  {
   "cell_type": "code",
   "execution_count": 35,
   "id": "2bb541f3",
   "metadata": {},
   "outputs": [
    {
     "data": {
      "text/plain": [
       "2"
      ]
     },
     "execution_count": 35,
     "metadata": {},
     "output_type": "execute_result"
    }
   ],
   "source": [
    "#peirntah berikut adalah untuk mengetahui elemen ada pada indeks ke berapa\n",
    "urutan_berulang.index(3)\n",
    "#pada urutan yang berulang indeks yang dipakai adalah yang pertama kali ditemukan oleh program"
   ]
  },
  {
   "cell_type": "markdown",
   "id": "bdb3e1bc",
   "metadata": {},
   "source": [
    "# 5.17 Dictionaries"
   ]
  },
  {
   "cell_type": "code",
   "execution_count": 37,
   "id": "25cfeaa6",
   "metadata": {},
   "outputs": [
    {
     "name": "stdout",
     "output_type": "stream",
     "text": [
      "{'nama': 'Antony', 'umur': 17, 'mahasiswa ': True}\n"
     ]
    }
   ],
   "source": [
    "#membuat dictionary adalah membuat beberapa data menjadi satu kesatuan atau terkait satu sama lain\n",
    "#awalnya kita membuat inisialisasi menggunakan kurung kurawal\n",
    "data_14 = {\n",
    "    \"nama\": \"Antony\",\n",
    "    \"umur\":17,\n",
    "    \"mahasiswa \": True\n",
    "}\n",
    "#3 data sudah terinput dan saling berkaitan satu dan lainnya\n",
    "print(data_14)"
   ]
  },
  {
   "cell_type": "code",
   "execution_count": 41,
   "id": "c79b2085",
   "metadata": {},
   "outputs": [
    {
     "name": "stdout",
     "output_type": "stream",
     "text": [
      "nama saya adalah  Antony\n"
     ]
    }
   ],
   "source": [
    "#ini adalah perintah untuk memanggil salah satu data menggunakan kurung siku\n",
    "print (\"nama saya adalah \", data_14['nama'])\n",
    "#output yang keluar adalah data nama"
   ]
  },
  {
   "cell_type": "code",
   "execution_count": 42,
   "id": "5e2aa4f0",
   "metadata": {},
   "outputs": [
    {
     "ename": "KeyError",
     "evalue": "'Nama'",
     "output_type": "error",
     "traceback": [
      "\u001b[1;31m---------------------------------------------------------------------------\u001b[0m",
      "\u001b[1;31mKeyError\u001b[0m                                  Traceback (most recent call last)",
      "\u001b[1;32m~\\AppData\\Local\\Temp\\ipykernel_5908\\2836321219.py\u001b[0m in \u001b[0;36m<module>\u001b[1;34m\u001b[0m\n\u001b[1;32m----> 1\u001b[1;33m \u001b[0mprint\u001b[0m\u001b[1;33m(\u001b[0m\u001b[1;34m\"nama saya adalah \"\u001b[0m\u001b[1;33m,\u001b[0m \u001b[0mdata_14\u001b[0m\u001b[1;33m[\u001b[0m\u001b[1;34m'Nama'\u001b[0m\u001b[1;33m]\u001b[0m\u001b[1;33m)\u001b[0m\u001b[1;33m\u001b[0m\u001b[1;33m\u001b[0m\u001b[0m\n\u001b[0m\u001b[0;32m      2\u001b[0m \u001b[1;31m#output tidak muncul karena ada perbedaan huruf kapital pada nama dan variabel yang dideklarasikan\u001b[0m\u001b[1;33m\u001b[0m\u001b[1;33m\u001b[0m\u001b[0m\n",
      "\u001b[1;31mKeyError\u001b[0m: 'Nama'"
     ]
    }
   ],
   "source": [
    "print(\"nama saya adalah \", data_14['Nama'])\n",
    "#output tidak muncul karena ada perbedaan huruf kapital pada nama dan variabel yang dideklarasikan"
   ]
  },
  {
   "cell_type": "code",
   "execution_count": 43,
   "id": "db0011b4",
   "metadata": {},
   "outputs": [
    {
     "name": "stdout",
     "output_type": "stream",
     "text": [
      "Antony\n"
     ]
    }
   ],
   "source": [
    "print(data_14.get('nama'))\n",
    "#Kita bisa mengatur nilai kunci pada dictionary yang kita panggil"
   ]
  },
  {
   "cell_type": "code",
   "execution_count": 44,
   "id": "9eff8d04",
   "metadata": {},
   "outputs": [
    {
     "ename": "NameError",
     "evalue": "name 'data_orang' is not defined",
     "output_type": "error",
     "traceback": [
      "\u001b[1;31m---------------------------------------------------------------------------\u001b[0m",
      "\u001b[1;31mNameError\u001b[0m                                 Traceback (most recent call last)",
      "\u001b[1;32m~\\AppData\\Local\\Temp\\ipykernel_5908\\1391963272.py\u001b[0m in \u001b[0;36m<module>\u001b[1;34m\u001b[0m\n\u001b[1;32m----> 1\u001b[1;33m \u001b[0mprint\u001b[0m\u001b[1;33m(\u001b[0m\u001b[0mdata_orang\u001b[0m\u001b[1;33m.\u001b[0m\u001b[0mget\u001b[0m\u001b[1;33m(\u001b[0m\u001b[1;34m'Nama'\u001b[0m\u001b[1;33m)\u001b[0m\u001b[1;33m)\u001b[0m\u001b[1;33m\u001b[0m\u001b[1;33m\u001b[0m\u001b[0m\n\u001b[0m",
      "\u001b[1;31mNameError\u001b[0m: name 'data_orang' is not defined"
     ]
    }
   ],
   "source": [
    "print(data_orang.get('Nama'))\n",
    "#output tidak muncul karena ada perbedaan huruf kapital pada \"nama\""
   ]
  },
  {
   "cell_type": "code",
   "execution_count": 45,
   "id": "00cc1f33",
   "metadata": {},
   "outputs": [
    {
     "name": "stdout",
     "output_type": "stream",
     "text": [
      "None\n"
     ]
    }
   ],
   "source": [
    "print(data_14.get('tanggal_lahir'))\n",
    "#perintah ini adalah untuk mencari tau apakah ada data tanggal lahir"
   ]
  },
  {
   "cell_type": "code",
   "execution_count": 46,
   "id": "befe6d78",
   "metadata": {},
   "outputs": [
    {
     "name": "stdout",
     "output_type": "stream",
     "text": [
      "23-6-2004\n"
     ]
    }
   ],
   "source": [
    "print(data_14.get('tanggal_lahir', '23-6-2004'))\n",
    "#perintah ini bertujuan unutk menambahkan tanggal lahir"
   ]
  },
  {
   "cell_type": "code",
   "execution_count": 47,
   "id": "8d6c5d48",
   "metadata": {},
   "outputs": [
    {
     "name": "stdout",
     "output_type": "stream",
     "text": [
      "{'nama': 'Antony', 'umur': 17, 'mahasiswa ': True}\n"
     ]
    }
   ],
   "source": [
    "print(data_14)\n",
    "#tetapi pada output yang muncul di print tanggal lahir belum masuk pada data"
   ]
  },
  {
   "cell_type": "code",
   "execution_count": 48,
   "id": "aeef6817",
   "metadata": {},
   "outputs": [
    {
     "ename": "KeyError",
     "evalue": "'tanggal_lahir'",
     "output_type": "error",
     "traceback": [
      "\u001b[1;31m---------------------------------------------------------------------------\u001b[0m",
      "\u001b[1;31mKeyError\u001b[0m                                  Traceback (most recent call last)",
      "\u001b[1;32m~\\AppData\\Local\\Temp\\ipykernel_5908\\314271023.py\u001b[0m in \u001b[0;36m<module>\u001b[1;34m\u001b[0m\n\u001b[1;32m----> 1\u001b[1;33m \u001b[0mprint\u001b[0m\u001b[1;33m(\u001b[0m\u001b[0mdata_14\u001b[0m\u001b[1;33m[\u001b[0m\u001b[1;34m\"tanggal_lahir\"\u001b[0m\u001b[1;33m]\u001b[0m\u001b[1;33m)\u001b[0m\u001b[1;33m\u001b[0m\u001b[1;33m\u001b[0m\u001b[0m\n\u001b[0m",
      "\u001b[1;31mKeyError\u001b[0m: 'tanggal_lahir'"
     ]
    }
   ],
   "source": [
    "print(data_14[\"tanggal_lahir\"])\n",
    "#karena tanggal lahir belum masuk pada data mengakibatkan error"
   ]
  },
  {
   "cell_type": "code",
   "execution_count": 49,
   "id": "0b71a57e",
   "metadata": {},
   "outputs": [],
   "source": [
    "data_14['no_hp']='08885646'\n",
    "#perintah sama dengan dan kotak siku dalah perintah untuk menambahkan data kedalam variabel"
   ]
  },
  {
   "cell_type": "code",
   "execution_count": 50,
   "id": "0c218592",
   "metadata": {},
   "outputs": [
    {
     "name": "stdout",
     "output_type": "stream",
     "text": [
      "08885646\n"
     ]
    }
   ],
   "source": [
    "print(data_14[\"no_hp\"])\n",
    "#pada output terbukti bahwa data no hp sudah masuk pada variabel data_14"
   ]
  },
  {
   "cell_type": "code",
   "execution_count": 51,
   "id": "9141cd98",
   "metadata": {},
   "outputs": [
    {
     "name": "stdout",
     "output_type": "stream",
     "text": [
      "{'nama': 'Antony', 'umur': 17, 'mahasiswa ': True, 'no_hp': '08885646'}\n"
     ]
    }
   ],
   "source": [
    "print(data_14)\n",
    "#kita dapat melihatnya dengan perintah print ada tambahan nomor hp pada datanya"
   ]
  },
  {
   "cell_type": "markdown",
   "id": "058e92ed",
   "metadata": {},
   "source": [
    "# 5.18 Fungsi"
   ]
  },
  {
   "cell_type": "code",
   "execution_count": 56,
   "id": "9f566000",
   "metadata": {},
   "outputs": [],
   "source": [
    "#fungsi adalah materi lanjutan dari pendahuluan pendahuluan yang sudah dibahas\n",
    "#pertama menginisialisasi variabel\n",
    "def full_name(first_name,last_name):\n",
    "    #ini adalah untuk menginput variabelnya\n",
    "    print (f\"Nama lengkapnya adalah {first_name} {last_name}\")"
   ]
  },
  {
   "cell_type": "code",
   "execution_count": 57,
   "id": "a1d13ac3",
   "metadata": {
    "scrolled": true
   },
   "outputs": [
    {
     "name": "stdout",
     "output_type": "stream",
     "text": [
      "Nama depan? antony\n",
      "Nama belakang? junior\n",
      "Nama lengkapnya adalah antony junior\n"
     ]
    }
   ],
   "source": [
    "#perintah ini untuk membuat elemen dalam variabel\n",
    "first_name = input (\"Nama depan? \")\n",
    "last_name = input(\"Nama belakang? \")\n",
    "#operasi yang digunakan yaitu menggabungkan nama depan dan nama belakang\n",
    "full_name(first_name,last_name)"
   ]
  },
  {
   "cell_type": "markdown",
   "id": "2fc980fa",
   "metadata": {},
   "source": [
    "# 5.19.1 Tugas fungsi "
   ]
  },
  {
   "cell_type": "code",
   "execution_count": 58,
   "id": "31952678",
   "metadata": {},
   "outputs": [],
   "source": [
    "#mendefinisika variabel\n",
    "def waktu_sampai(jarak,kecepatan):\n",
    "    #mendefinisikan operasi yang akan dilakukan\n",
    "    waktu = jarak/kecepatan\n",
    "    print(waktu)\n",
    "    #memunculkan output"
   ]
  },
  {
   "cell_type": "code",
   "execution_count": 64,
   "id": "afb8ea45",
   "metadata": {},
   "outputs": [
    {
     "name": "stdout",
     "output_type": "stream",
     "text": [
      "2.6666666666666665\n"
     ]
    }
   ],
   "source": [
    "#data yang diinput adalah 40 sebagai jarak\n",
    "#dan 15 sebagai kecepatan\n",
    "waktu_sampai(40,15)\n",
    "#output yang keluar adalah hasil dari operasi yang sudah didefinisikan sebelumnya\n"
   ]
  },
  {
   "cell_type": "code",
   "execution_count": 67,
   "id": "89606179",
   "metadata": {},
   "outputs": [
    {
     "name": "stdout",
     "output_type": "stream",
     "text": [
      "Masukkan nilai sisi : 3\n"
     ]
    },
    {
     "data": {
      "text/plain": [
       "9"
      ]
     },
     "execution_count": 67,
     "metadata": {},
     "output_type": "execute_result"
    }
   ],
   "source": [
    "#mendefinisikan variabel yang digunakan\n",
    "def l_persegi (sisi):\n",
    "    #operasi yang digunakan\n",
    "    luas = sisi**2\n",
    "    #penggunaan return fungsi mengembalikan nilai\n",
    "    return luas\n",
    "#menginput nilai yang diinginkan\n",
    "l_persegi(int(input(\"Masukkan nilai sisi : \")))\n",
    "#output yang dikeluarkan adalah hasil dari operasi yang didefinisikan"
   ]
  },
  {
   "cell_type": "markdown",
   "id": "64bf7975",
   "metadata": {},
   "source": [
    "# 5.20 Numpy"
   ]
  },
  {
   "cell_type": "code",
   "execution_count": 68,
   "id": "4802f344",
   "metadata": {},
   "outputs": [],
   "source": [
    "#numpy adalah salah satu library phyton\n",
    "import numpy as np\n",
    "#jika tidak error maka library yang diimport ada"
   ]
  },
  {
   "cell_type": "markdown",
   "id": "b191ed4f",
   "metadata": {},
   "source": [
    "# 5.20.1 Perintah Dasar pada Numpy "
   ]
  },
  {
   "cell_type": "code",
   "execution_count": 72,
   "id": "1d8b46e4",
   "metadata": {},
   "outputs": [
    {
     "name": "stdout",
     "output_type": "stream",
     "text": [
      "[1 2 3 4]\n"
     ]
    }
   ],
   "source": [
    "#membbuat variabel data array dengan ordo yang diinginkan\n",
    "a = np.array([1,2,3,4])\n",
    "print (a)\n",
    "#memggunakan 2 macam kurung siku dan biasa\n",
    "#output yang muncul adalah matriks ber ordo 1x4"
   ]
  },
  {
   "cell_type": "code",
   "execution_count": 73,
   "id": "b1fcc878",
   "metadata": {},
   "outputs": [
    {
     "data": {
      "text/plain": [
       "1"
      ]
     },
     "execution_count": 73,
     "metadata": {},
     "output_type": "execute_result"
    }
   ],
   "source": [
    "a.ndim\n",
    "#adalah penggunaan untuk mengetahhui berapa dimensi pada matriks yang diinput"
   ]
  },
  {
   "cell_type": "code",
   "execution_count": 74,
   "id": "3299c2e8",
   "metadata": {},
   "outputs": [
    {
     "data": {
      "text/plain": [
       "(4,)"
      ]
     },
     "execution_count": 74,
     "metadata": {},
     "output_type": "execute_result"
    }
   ],
   "source": [
    "a.shape\n",
    "#shape untuk mengetahui banyaknya elemen pada matriks"
   ]
  },
  {
   "cell_type": "code",
   "execution_count": 78,
   "id": "7efadeac",
   "metadata": {},
   "outputs": [
    {
     "name": "stdout",
     "output_type": "stream",
     "text": [
      "[[1 2 3 4]\n",
      " [5 6 7 8]]\n"
     ]
    }
   ],
   "source": [
    "#membuat ordo 2x4\n",
    "b= np.array ([[1,2,3,4],\n",
    "            [5,6,7,8]])\n",
    "#setiap baris dipisahkan kurungsiku\n",
    "print(b)"
   ]
  },
  {
   "cell_type": "code",
   "execution_count": 79,
   "id": "97131de7",
   "metadata": {},
   "outputs": [
    {
     "data": {
      "text/plain": [
       "2"
      ]
     },
     "execution_count": 79,
     "metadata": {},
     "output_type": "execute_result"
    }
   ],
   "source": [
    "b.ndim\n",
    "#berbeda dengan a. output yang akan dikeluarkan adalah sesuai dengan dimensi yang diinput"
   ]
  },
  {
   "cell_type": "code",
   "execution_count": 80,
   "id": "510fa109",
   "metadata": {},
   "outputs": [
    {
     "data": {
      "text/plain": [
       "(2, 4)"
      ]
     },
     "execution_count": 80,
     "metadata": {},
     "output_type": "execute_result"
    }
   ],
   "source": [
    "b.shape\n",
    "#pada shape variabel b juga akan memiliki output yang berbeda daripada a\n",
    "#2 untuk baris dan 4 untuk kolom"
   ]
  },
  {
   "cell_type": "code",
   "execution_count": 84,
   "id": "724114cf",
   "metadata": {},
   "outputs": [
    {
     "name": "stdout",
     "output_type": "stream",
     "text": [
      "[[[ 3  2  4  1]\n",
      "  [ 2  3  4  5]]\n",
      "\n",
      " [[ 9  8  2  4]\n",
      "  [ 4  5  6  3]]\n",
      "\n",
      " [[12  5  7  9]\n",
      "  [ 2  5  4  5]]]\n"
     ]
    },
    {
     "data": {
      "text/plain": [
       "3"
      ]
     },
     "execution_count": 84,
     "metadata": {},
     "output_type": "execute_result"
    }
   ],
   "source": [
    "c = np.array ([[[3,2,4,1], [2,3,4,5]],\n",
    "              [[9,8,2,4], [4,5,6,3]],\n",
    "              [[12,5,7,9], [2,5,4,5]]])\n",
    "print(c)\n",
    "#c.ndim untuk menunjukan banyaknya dimensi\n",
    "c.ndim"
   ]
  },
  {
   "cell_type": "markdown",
   "id": "b7306439",
   "metadata": {},
   "source": [
    "# 5.20.2 Memanggil anggota,kolom,dan baris"
   ]
  },
  {
   "cell_type": "code",
   "execution_count": 85,
   "id": "faaecce8",
   "metadata": {
    "scrolled": true
   },
   "outputs": [
    {
     "name": "stdout",
     "output_type": "stream",
     "text": [
      "[[1 2 3 4]\n",
      " [5 6 7 8]]\n"
     ]
    }
   ],
   "source": [
    "print(b)"
   ]
  },
  {
   "cell_type": "code",
   "execution_count": 86,
   "id": "73d183d8",
   "metadata": {},
   "outputs": [
    {
     "name": "stdout",
     "output_type": "stream",
     "text": [
      "3\n"
     ]
    }
   ],
   "source": [
    "#perintah untuk memanggil pada elemen baris ke 1 dan kolom ke 3\n",
    "print (b[0,2])"
   ]
  },
  {
   "cell_type": "code",
   "execution_count": 88,
   "id": "947ba62e",
   "metadata": {},
   "outputs": [
    {
     "name": "stdout",
     "output_type": "stream",
     "text": [
      "[[1 2 3 4]\n",
      " [5 6 7 8]]\n"
     ]
    }
   ],
   "source": [
    "#memanggil seluruh elemen yang ada pada variabel \n",
    "print (b[ : ])"
   ]
  },
  {
   "cell_type": "code",
   "execution_count": 90,
   "id": "ca88d5c3",
   "metadata": {},
   "outputs": [
    {
     "name": "stdout",
     "output_type": "stream",
     "text": [
      "[[5 6 7 8]]\n"
     ]
    }
   ],
   "source": [
    "#memanggil elemen dari baris yang diinginkan sampai baris terakhir\n",
    "print (b[1: ])"
   ]
  },
  {
   "cell_type": "code",
   "execution_count": 91,
   "id": "217e225f",
   "metadata": {},
   "outputs": [
    {
     "name": "stdout",
     "output_type": "stream",
     "text": [
      "[3 7]\n"
     ]
    }
   ],
   "source": [
    "#memanggil elemen dari kolom yang diinginkan\n",
    "print (b[:,2])"
   ]
  },
  {
   "cell_type": "code",
   "execution_count": 94,
   "id": "11b2adaf",
   "metadata": {},
   "outputs": [
    {
     "name": "stdout",
     "output_type": "stream",
     "text": [
      "[2 3]\n"
     ]
    }
   ],
   "source": [
    "#memanggil elemen dari baris dan kolom yang diinginkan hingga kolom yang dituju\n",
    "print (b[0,1:3])"
   ]
  },
  {
   "cell_type": "code",
   "execution_count": 97,
   "id": "354149f9",
   "metadata": {},
   "outputs": [
    {
     "name": "stdout",
     "output_type": "stream",
     "text": [
      "[1 2]\n"
     ]
    }
   ],
   "source": [
    "#memanggil elemen dari baris dan kolom yang diinginkan dan kolom yang dituju\n",
    "print (b[0,0:2:1]) "
   ]
  },
  {
   "cell_type": "code",
   "execution_count": 98,
   "id": "6388c369",
   "metadata": {},
   "outputs": [
    {
     "name": "stdout",
     "output_type": "stream",
     "text": [
      "[[100   2   3   4]\n",
      " [  5   6   7   8]]\n"
     ]
    }
   ],
   "source": [
    "#mengubah satu elemen yang ada didalam variabel\n",
    "b[0,0]=100\n",
    "print (b)"
   ]
  },
  {
   "cell_type": "markdown",
   "id": "26c933a4",
   "metadata": {},
   "source": [
    "# 5.20.3 Matriks pada numpy"
   ]
  },
  {
   "cell_type": "code",
   "execution_count": 99,
   "id": "5a8611d6",
   "metadata": {},
   "outputs": [
    {
     "data": {
      "text/plain": [
       "array([[1., 1., 1.],\n",
       "       [1., 1., 1.]])"
      ]
     },
     "execution_count": 99,
     "metadata": {},
     "output_type": "execute_result"
    }
   ],
   "source": [
    "#Numpy dapat digunakan untuk memunculkan berbagai macam matriks\n",
    "#kita dapat memanggilnya dengan perintah\n",
    "np.ones((2,3))\n",
    "#ones artinya matriks angka matrik 2 sebagai baris dan 3 sebagai kolom"
   ]
  },
  {
   "cell_type": "code",
   "execution_count": 100,
   "id": "054a7541",
   "metadata": {},
   "outputs": [
    {
     "data": {
      "text/plain": [
       "array([[0., 0., 0.],\n",
       "       [0., 0., 0.],\n",
       "       [0., 0., 0.]])"
      ]
     },
     "execution_count": 100,
     "metadata": {},
     "output_type": "execute_result"
    }
   ],
   "source": [
    "#perintah berikutnya memanggil jenis matriks lain\n",
    "np.zeros((3,3))\n",
    "#seperti sebelumnya (3,3) berarti berordo 3x3"
   ]
  },
  {
   "cell_type": "code",
   "execution_count": 102,
   "id": "08942199",
   "metadata": {},
   "outputs": [
    {
     "data": {
      "text/plain": [
       "array([[1., 0., 0., 0.],\n",
       "       [0., 1., 0., 0.],\n",
       "       [0., 0., 1., 0.],\n",
       "       [0., 0., 0., 1.]])"
      ]
     },
     "execution_count": 102,
     "metadata": {},
     "output_type": "execute_result"
    }
   ],
   "source": [
    "#memanggil matriks indentitas\n",
    "np.identity(4)\n",
    "#4 berarti ordo 4x4"
   ]
  },
  {
   "cell_type": "code",
   "execution_count": 103,
   "id": "41fb88da",
   "metadata": {},
   "outputs": [
    {
     "data": {
      "text/plain": [
       "array([[[1., 1., 1., 1.],\n",
       "        [1., 1., 1., 1.],\n",
       "        [1., 1., 1., 1.]],\n",
       "\n",
       "       [[1., 1., 1., 1.],\n",
       "        [1., 1., 1., 1.],\n",
       "        [1., 1., 1., 1.]]])"
      ]
     },
     "execution_count": 103,
     "metadata": {},
     "output_type": "execute_result"
    }
   ],
   "source": [
    "#memanggil 2 buah matriks dengan ordo 3x4\n",
    "np.ones((2,3,4))"
   ]
  },
  {
   "cell_type": "code",
   "execution_count": 104,
   "id": "46165ac5",
   "metadata": {},
   "outputs": [
    {
     "data": {
      "text/plain": [
       "array([[9, 9],\n",
       "       [9, 9],\n",
       "       [9, 9]])"
      ]
     },
     "execution_count": 104,
     "metadata": {},
     "output_type": "execute_result"
    }
   ],
   "source": [
    "#memanggil matriks dengan ordo 3x2 dengan semuanya berisi angka yang diinginkan\n",
    "np.full((3,2),9)"
   ]
  },
  {
   "cell_type": "code",
   "execution_count": 105,
   "id": "ceadd3fc",
   "metadata": {},
   "outputs": [
    {
     "data": {
      "text/plain": [
       "array([[0.14178217, 0.41456143, 0.04174481],\n",
       "       [0.72443275, 0.51731016, 0.42787997],\n",
       "       [0.52257876, 0.62633641, 0.170009  ],\n",
       "       [0.16206559, 0.36539867, 0.79513693]])"
      ]
     },
     "execution_count": 105,
     "metadata": {},
     "output_type": "execute_result"
    }
   ],
   "source": [
    "#memanggil matriks dengan nilai random dengan baris 4 dan kolom 3\n",
    "np.random.rand(4,3)"
   ]
  },
  {
   "cell_type": "code",
   "execution_count": 106,
   "id": "16682002",
   "metadata": {},
   "outputs": [
    {
     "data": {
      "text/plain": [
       "array([[4, 5, 3],\n",
       "       [5, 5, 6],\n",
       "       [4, 5, 4]])"
      ]
     },
     "execution_count": 106,
     "metadata": {},
     "output_type": "execute_result"
    }
   ],
   "source": [
    "#membuat matrik random dengan batasan yang ditentukan dan ordo yang diinginkan\n",
    "np.random.randint(2,7, size=(3,3))"
   ]
  },
  {
   "cell_type": "markdown",
   "id": "c968e050",
   "metadata": {},
   "source": [
    "# 5.20.4 Copy pada Numpy"
   ]
  },
  {
   "cell_type": "code",
   "execution_count": 107,
   "id": "63253588",
   "metadata": {},
   "outputs": [
    {
     "name": "stdout",
     "output_type": "stream",
     "text": [
      "[1 2 3 4]\n"
     ]
    }
   ],
   "source": [
    "print(a)"
   ]
  },
  {
   "cell_type": "code",
   "execution_count": 108,
   "id": "70c7fef4",
   "metadata": {},
   "outputs": [],
   "source": [
    "#jika memasukan variabel baru dengan menggunakan variabel yang lama maka nilainya sama\n",
    "k = a"
   ]
  },
  {
   "cell_type": "code",
   "execution_count": 109,
   "id": "c5a16917",
   "metadata": {},
   "outputs": [
    {
     "name": "stdout",
     "output_type": "stream",
     "text": [
      "[1 2 3 4]\n"
     ]
    }
   ],
   "source": [
    "print(k)\n",
    "#outputnya adalah nilai a pada awal"
   ]
  },
  {
   "cell_type": "code",
   "execution_count": 113,
   "id": "4639162b",
   "metadata": {},
   "outputs": [
    {
     "name": "stdout",
     "output_type": "stream",
     "text": [
      "[10  2  3  4]\n"
     ]
    }
   ],
   "source": [
    "#mengubah elemen yang dinginkan dengan nilai yang dinginkan\n",
    "k [0] = 10\n",
    "print(k)"
   ]
  },
  {
   "cell_type": "code",
   "execution_count": 114,
   "id": "b9da6c24",
   "metadata": {},
   "outputs": [
    {
     "name": "stdout",
     "output_type": "stream",
     "text": [
      "[10  2  3  4]\n"
     ]
    }
   ],
   "source": [
    "print(a)\n",
    "#karena nilai k sama dengan a maka nilai yang diubah pada k berpengaruh pada a"
   ]
  },
  {
   "cell_type": "code",
   "execution_count": 115,
   "id": "ea4958aa",
   "metadata": {},
   "outputs": [
    {
     "name": "stdout",
     "output_type": "stream",
     "text": [
      "[3 4 5 6 7]\n"
     ]
    }
   ],
   "source": [
    "#membuat variabel baru\n",
    "e = np.array ([3,4,5,6,7])\n",
    "print(e)"
   ]
  },
  {
   "cell_type": "code",
   "execution_count": 116,
   "id": "d6dd10dd",
   "metadata": {},
   "outputs": [
    {
     "name": "stdout",
     "output_type": "stream",
     "text": [
      "[3 4 5 6 7]\n"
     ]
    }
   ],
   "source": [
    "#perintah yang berbeda tapi menghasilkan output sama\n",
    "#copy berguna seperti sama dengan\n",
    "j = e.copy()\n",
    "print(j)"
   ]
  },
  {
   "cell_type": "code",
   "execution_count": 117,
   "id": "24b80f92",
   "metadata": {},
   "outputs": [
    {
     "name": "stdout",
     "output_type": "stream",
     "text": [
      "[3 4 9 6 7]\n"
     ]
    }
   ],
   "source": [
    "j[2]=9\n",
    "print(j)\n",
    "#mengubah satu elemen"
   ]
  },
  {
   "cell_type": "code",
   "execution_count": 118,
   "id": "fc8063d0",
   "metadata": {},
   "outputs": [
    {
     "name": "stdout",
     "output_type": "stream",
     "text": [
      "[3 4 5 6 7]\n"
     ]
    }
   ],
   "source": [
    "print (e)\n",
    "#tapi tidak berpengaruh pada e yang sudah dikopi oleh j tadi"
   ]
  },
  {
   "cell_type": "markdown",
   "id": "33236e8f",
   "metadata": {},
   "source": [
    "# 5.20.5 Operasi Matematika Pada Numpy"
   ]
  },
  {
   "cell_type": "code",
   "execution_count": 119,
   "id": "abea544e",
   "metadata": {},
   "outputs": [
    {
     "name": "stdout",
     "output_type": "stream",
     "text": [
      "[3 4 5 6 7]\n"
     ]
    }
   ],
   "source": [
    "print(e)"
   ]
  },
  {
   "cell_type": "code",
   "execution_count": 121,
   "id": "7ae1484d",
   "metadata": {},
   "outputs": [
    {
     "name": "stdout",
     "output_type": "stream",
     "text": [
      "Masukkan nilai : 2\n"
     ]
    },
    {
     "data": {
      "text/plain": [
       "array([5, 6, 7, 8, 9])"
      ]
     },
     "execution_count": 121,
     "metadata": {},
     "output_type": "execute_result"
    }
   ],
   "source": [
    "#operasi penjumlahan menjumlahkan seluruh isi matriks dengan nilai yang diinput\n",
    "e+int(input(\"Masukkan nilai : \"))"
   ]
  },
  {
   "cell_type": "code",
   "execution_count": 122,
   "id": "79581472",
   "metadata": {},
   "outputs": [
    {
     "name": "stdout",
     "output_type": "stream",
     "text": [
      "Masukkan nilai : 2\n"
     ]
    },
    {
     "data": {
      "text/plain": [
       "array([1, 2, 3, 4, 5])"
      ]
     },
     "execution_count": 122,
     "metadata": {},
     "output_type": "execute_result"
    }
   ],
   "source": [
    "#berlaku pada pengurangan\n",
    "e-int(input(\"Masukkan nilai : \"))"
   ]
  },
  {
   "cell_type": "code",
   "execution_count": 126,
   "id": "2c0b5700",
   "metadata": {},
   "outputs": [
    {
     "name": "stdout",
     "output_type": "stream",
     "text": [
      "Masukkan nilai : 2\n"
     ]
    },
    {
     "data": {
      "text/plain": [
       "array([ 6,  8, 10, 12, 14])"
      ]
     },
     "execution_count": 126,
     "metadata": {},
     "output_type": "execute_result"
    }
   ],
   "source": [
    "#berlaku pada perkalian, pembagian dan pangkat\n",
    "e*int(input(\"Masukkan nilai : \"))"
   ]
  },
  {
   "cell_type": "code",
   "execution_count": 125,
   "id": "18f6c470",
   "metadata": {},
   "outputs": [
    {
     "name": "stdout",
     "output_type": "stream",
     "text": [
      "Masukkan nilai : 2\n"
     ]
    },
    {
     "data": {
      "text/plain": [
       "array([1.5, 2. , 2.5, 3. , 3.5])"
      ]
     },
     "execution_count": 125,
     "metadata": {},
     "output_type": "execute_result"
    }
   ],
   "source": [
    "e/int(input(\"Masukkan nilai : \"))"
   ]
  },
  {
   "cell_type": "code",
   "execution_count": 127,
   "id": "c57ad5e4",
   "metadata": {},
   "outputs": [
    {
     "name": "stdout",
     "output_type": "stream",
     "text": [
      "Masukkan nilai : 2\n"
     ]
    },
    {
     "data": {
      "text/plain": [
       "array([ 9, 16, 25, 36, 49], dtype=int32)"
      ]
     },
     "execution_count": 127,
     "metadata": {},
     "output_type": "execute_result"
    }
   ],
   "source": [
    "e**int(input(\"Masukkan nilai : \"))"
   ]
  },
  {
   "cell_type": "code",
   "execution_count": 128,
   "id": "674a86d9",
   "metadata": {},
   "outputs": [
    {
     "name": "stdout",
     "output_type": "stream",
     "text": [
      "[10  2  3  4]\n"
     ]
    }
   ],
   "source": [
    "print(a)"
   ]
  },
  {
   "cell_type": "code",
   "execution_count": 129,
   "id": "3ec3e09a",
   "metadata": {},
   "outputs": [],
   "source": [
    "#menggunakan operasi yang sama untuk mengoperasikan dua buah matriks"
   ]
  },
  {
   "cell_type": "code",
   "execution_count": 131,
   "id": "2313ce8b",
   "metadata": {},
   "outputs": [
    {
     "ename": "ValueError",
     "evalue": "operands could not be broadcast together with shapes (4,) (5,) ",
     "output_type": "error",
     "traceback": [
      "\u001b[1;31m---------------------------------------------------------------------------\u001b[0m",
      "\u001b[1;31mValueError\u001b[0m                                Traceback (most recent call last)",
      "\u001b[1;32m~\\AppData\\Local\\Temp\\ipykernel_5908\\3625274640.py\u001b[0m in \u001b[0;36m<module>\u001b[1;34m\u001b[0m\n\u001b[1;32m----> 1\u001b[1;33m \u001b[0ma\u001b[0m\u001b[1;33m+\u001b[0m\u001b[0me\u001b[0m\u001b[1;33m\u001b[0m\u001b[1;33m\u001b[0m\u001b[0m\n\u001b[0m",
      "\u001b[1;31mValueError\u001b[0m: operands could not be broadcast together with shapes (4,) (5,) "
     ]
    }
   ],
   "source": [
    "a+e"
   ]
  },
  {
   "cell_type": "code",
   "execution_count": 132,
   "id": "32cf6a64",
   "metadata": {},
   "outputs": [],
   "source": [
    "#error karena tidak sesuai dengan ordo yang diperlukan"
   ]
  },
  {
   "cell_type": "code",
   "execution_count": 133,
   "id": "ea797910",
   "metadata": {},
   "outputs": [
    {
     "name": "stdout",
     "output_type": "stream",
     "text": [
      "[3 4 9 6 7]\n"
     ]
    }
   ],
   "source": [
    "print(j)"
   ]
  },
  {
   "cell_type": "code",
   "execution_count": 134,
   "id": "cb6e585d",
   "metadata": {},
   "outputs": [
    {
     "data": {
      "text/plain": [
       "array([ 6,  8, 14, 12, 14])"
      ]
     },
     "execution_count": 134,
     "metadata": {},
     "output_type": "execute_result"
    }
   ],
   "source": [
    "e+j\n",
    "#berlaku karena ordo sesuai"
   ]
  },
  {
   "cell_type": "code",
   "execution_count": 135,
   "id": "4396342e",
   "metadata": {},
   "outputs": [
    {
     "data": {
      "text/plain": [
       "array([ 0,  0, -4,  0,  0])"
      ]
     },
     "execution_count": 135,
     "metadata": {},
     "output_type": "execute_result"
    }
   ],
   "source": [
    "e-j"
   ]
  },
  {
   "cell_type": "code",
   "execution_count": 136,
   "id": "071f173c",
   "metadata": {},
   "outputs": [
    {
     "data": {
      "text/plain": [
       "array([ 9, 16, 45, 36, 49])"
      ]
     },
     "execution_count": 136,
     "metadata": {},
     "output_type": "execute_result"
    }
   ],
   "source": [
    "e*j"
   ]
  },
  {
   "cell_type": "code",
   "execution_count": 137,
   "id": "ef2a817a",
   "metadata": {},
   "outputs": [
    {
     "data": {
      "text/plain": [
       "array([     27,     256, 1953125,   46656,  823543], dtype=int32)"
      ]
     },
     "execution_count": 137,
     "metadata": {},
     "output_type": "execute_result"
    }
   ],
   "source": [
    "e**j"
   ]
  },
  {
   "cell_type": "code",
   "execution_count": 138,
   "id": "2f8859a2",
   "metadata": {},
   "outputs": [
    {
     "data": {
      "text/plain": [
       "array([-0.9899925 , -0.65364362,  0.28366219,  0.96017029,  0.75390225])"
      ]
     },
     "execution_count": 138,
     "metadata": {},
     "output_type": "execute_result"
    }
   ],
   "source": [
    "np.cos(e)"
   ]
  },
  {
   "cell_type": "code",
   "execution_count": 140,
   "id": "15972a1c",
   "metadata": {},
   "outputs": [
    {
     "data": {
      "text/plain": [
       "array([-0.14254654,  1.15782128, -3.38051501, -0.29100619,  0.87144798])"
      ]
     },
     "execution_count": 140,
     "metadata": {},
     "output_type": "execute_result"
    }
   ],
   "source": [
    "np.tan(e)"
   ]
  },
  {
   "cell_type": "code",
   "execution_count": 141,
   "id": "ffff17d5",
   "metadata": {},
   "outputs": [
    {
     "data": {
      "text/plain": [
       "array([ 10.01787493,  27.2899172 ,  74.20321058, 201.71315737,\n",
       "       548.31612327])"
      ]
     },
     "execution_count": 141,
     "metadata": {},
     "output_type": "execute_result"
    }
   ],
   "source": [
    "np.sinh(e)"
   ]
  },
  {
   "cell_type": "markdown",
   "id": "5fef1368",
   "metadata": {},
   "source": [
    "# 5.20.6 perkalian matrik pada numpy"
   ]
  },
  {
   "cell_type": "code",
   "execution_count": 142,
   "id": "7b8a9f24",
   "metadata": {},
   "outputs": [
    {
     "name": "stdout",
     "output_type": "stream",
     "text": [
      "[[10 10 10 10]\n",
      " [ 5  6  7  8]]\n"
     ]
    }
   ],
   "source": [
    "print (b)"
   ]
  },
  {
   "cell_type": "code",
   "execution_count": 151,
   "id": "4d792334",
   "metadata": {},
   "outputs": [
    {
     "name": "stdout",
     "output_type": "stream",
     "text": [
      "[[3 2 3 6]\n",
      " [6 6 3 4]]\n"
     ]
    }
   ],
   "source": [
    "l = np.random.randint(2,7, size=(2,4))\n",
    "print(l)"
   ]
  },
  {
   "cell_type": "code",
   "execution_count": 152,
   "id": "a17da143",
   "metadata": {},
   "outputs": [
    {
     "name": "stdout",
     "output_type": "stream",
     "text": [
      "[[30 20 30 60]\n",
      " [30 36 21 32]]\n"
     ]
    }
   ],
   "source": [
    "g = b*l\n",
    "print(g)"
   ]
  },
  {
   "cell_type": "code",
   "execution_count": 153,
   "id": "718056c2",
   "metadata": {},
   "outputs": [
    {
     "name": "stdout",
     "output_type": "stream",
     "text": [
      "[[6 4 5]\n",
      " [5 3 4]\n",
      " [6 2 2]\n",
      " [3 5 6]]\n"
     ]
    }
   ],
   "source": [
    "n = np.random.randint(2,7, size=(4,3))\n",
    "print(n)"
   ]
  },
  {
   "cell_type": "code",
   "execution_count": 154,
   "id": "9af32a9e",
   "metadata": {},
   "outputs": [
    {
     "ename": "ValueError",
     "evalue": "operands could not be broadcast together with shapes (2,4) (4,3) ",
     "output_type": "error",
     "traceback": [
      "\u001b[1;31m---------------------------------------------------------------------------\u001b[0m",
      "\u001b[1;31mValueError\u001b[0m                                Traceback (most recent call last)",
      "\u001b[1;32m~\\AppData\\Local\\Temp\\ipykernel_5908\\346812399.py\u001b[0m in \u001b[0;36m<module>\u001b[1;34m\u001b[0m\n\u001b[1;32m----> 1\u001b[1;33m \u001b[0mh\u001b[0m \u001b[1;33m=\u001b[0m \u001b[0mg\u001b[0m\u001b[1;33m*\u001b[0m\u001b[0mn\u001b[0m\u001b[1;33m\u001b[0m\u001b[1;33m\u001b[0m\u001b[0m\n\u001b[0m",
      "\u001b[1;31mValueError\u001b[0m: operands could not be broadcast together with shapes (2,4) (4,3) "
     ]
    }
   ],
   "source": [
    "h = g*n"
   ]
  },
  {
   "cell_type": "code",
   "execution_count": 155,
   "id": "b0b33ba3",
   "metadata": {},
   "outputs": [],
   "source": [
    "#error karena ordo dalam perkalian tidak sesuai"
   ]
  },
  {
   "cell_type": "markdown",
   "id": "e5dccaf8",
   "metadata": {},
   "source": [
    "# 5.20.7 min,max, dan sum pada numpy"
   ]
  },
  {
   "cell_type": "code",
   "execution_count": 160,
   "id": "71e7472c",
   "metadata": {},
   "outputs": [
    {
     "name": "stdout",
     "output_type": "stream",
     "text": [
      "[[2 3 4 6]\n",
      " [8 7 6 5]\n",
      " [6 7 5 8]]\n"
     ]
    }
   ],
   "source": [
    "#memanggil matrik\n",
    "x = np.random.randint(2,9, size=(3,4))\n",
    "print(x)"
   ]
  },
  {
   "cell_type": "code",
   "execution_count": 161,
   "id": "751b6e68",
   "metadata": {},
   "outputs": [
    {
     "name": "stdout",
     "output_type": "stream",
     "text": [
      "2\n"
     ]
    }
   ],
   "source": [
    "b = np.min(x)\n",
    "print(b)"
   ]
  },
  {
   "cell_type": "code",
   "execution_count": 162,
   "id": "a4143dae",
   "metadata": {},
   "outputs": [
    {
     "name": "stdout",
     "output_type": "stream",
     "text": [
      "[3 2 3]\n"
     ]
    }
   ],
   "source": [
    "c = np.min(a,axis=0)\n",
    "print(c)"
   ]
  },
  {
   "cell_type": "code",
   "execution_count": 163,
   "id": "9ae2410d",
   "metadata": {},
   "outputs": [
    {
     "name": "stdout",
     "output_type": "stream",
     "text": [
      "[5 3 3 2]\n"
     ]
    }
   ],
   "source": [
    "d = np.min(a,axis=1)\n",
    "print(d)"
   ]
  },
  {
   "cell_type": "code",
   "execution_count": 164,
   "id": "4577c029",
   "metadata": {},
   "outputs": [
    {
     "name": "stdout",
     "output_type": "stream",
     "text": [
      "6\n"
     ]
    }
   ],
   "source": [
    "e= np.max(a)\n",
    "print(e)"
   ]
  },
  {
   "cell_type": "code",
   "execution_count": 165,
   "id": "a1cd31d3",
   "metadata": {},
   "outputs": [
    {
     "name": "stdout",
     "output_type": "stream",
     "text": [
      "[5 6 5]\n"
     ]
    }
   ],
   "source": [
    "f = np.max(a,axis=0)\n",
    "print(f)"
   ]
  },
  {
   "cell_type": "code",
   "execution_count": 166,
   "id": "8a7e0f58",
   "metadata": {},
   "outputs": [
    {
     "name": "stdout",
     "output_type": "stream",
     "text": [
      "51\n"
     ]
    }
   ],
   "source": [
    "h = np.sum(a)\n",
    "print(h)"
   ]
  },
  {
   "cell_type": "code",
   "execution_count": 167,
   "id": "a60d60e6",
   "metadata": {},
   "outputs": [
    {
     "name": "stdout",
     "output_type": "stream",
     "text": [
      "[18 17 16]\n"
     ]
    }
   ],
   "source": [
    "h = np.sum(a,axis=0)\n",
    "print(h)"
   ]
  }
 ],
 "metadata": {
  "kernelspec": {
   "display_name": "Python 3 (ipykernel)",
   "language": "python",
   "name": "python3"
  },
  "language_info": {
   "codemirror_mode": {
    "name": "ipython",
    "version": 3
   },
   "file_extension": ".py",
   "mimetype": "text/x-python",
   "name": "python",
   "nbconvert_exporter": "python",
   "pygments_lexer": "ipython3",
   "version": "3.9.13"
  }
 },
 "nbformat": 4,
 "nbformat_minor": 5
}
