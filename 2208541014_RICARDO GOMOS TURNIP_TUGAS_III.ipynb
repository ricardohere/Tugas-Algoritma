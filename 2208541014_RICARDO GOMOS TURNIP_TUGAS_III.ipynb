{
 "cells": [
  {
   "cell_type": "markdown",
   "id": "d9efceed",
   "metadata": {},
   "source": [
    "# string index"
   ]
  },
  {
   "cell_type": "code",
   "execution_count": 1,
   "id": "cdd5f2e1",
   "metadata": {},
   "outputs": [],
   "source": [
    "#dimulai dari nol dari awal huruf\n",
    "#string indeks untuk memilih beberapa karakter yang ingin dimunculkan"
   ]
  },
  {
   "cell_type": "code",
   "execution_count": 1,
   "id": "ec2d84fb",
   "metadata": {},
   "outputs": [],
   "source": [
    "contoh = \"barcelona menang hari ini\""
   ]
  },
  {
   "cell_type": "code",
   "execution_count": 4,
   "id": "ee97cb4d",
   "metadata": {},
   "outputs": [
    {
     "name": "stdout",
     "output_type": "stream",
     "text": [
      "ar\n"
     ]
    }
   ],
   "source": [
    "print(contoh[1:3])"
   ]
  },
  {
   "cell_type": "code",
   "execution_count": 5,
   "id": "0db48eaa",
   "metadata": {},
   "outputs": [
    {
     "name": "stdout",
     "output_type": "stream",
     "text": [
      "lona menang hari in\n"
     ]
    }
   ],
   "source": [
    "print(contoh[5:-1])"
   ]
  },
  {
   "cell_type": "code",
   "execution_count": 8,
   "id": "5f0aa21d",
   "metadata": {},
   "outputs": [
    {
     "name": "stdout",
     "output_type": "stream",
     "text": [
      "lona menang hari i\n"
     ]
    }
   ],
   "source": [
    "print(contoh[5:-2])"
   ]
  },
  {
   "cell_type": "code",
   "execution_count": 9,
   "id": "bf3f99e9",
   "metadata": {},
   "outputs": [
    {
     "data": {
      "text/plain": [
       "'i'"
      ]
     },
     "execution_count": 9,
     "metadata": {},
     "output_type": "execute_result"
    }
   ],
   "source": [
    "contoh[-1]"
   ]
  },
  {
   "cell_type": "code",
   "execution_count": 11,
   "id": "f97ee9c4",
   "metadata": {},
   "outputs": [
    {
     "ename": "TypeError",
     "evalue": "'str' object is not callable",
     "output_type": "error",
     "traceback": [
      "\u001b[1;31m---------------------------------------------------------------------------\u001b[0m",
      "\u001b[1;31mTypeError\u001b[0m                                 Traceback (most recent call last)",
      "\u001b[1;32m~\\AppData\\Local\\Temp\\ipykernel_5520\\2118429447.py\u001b[0m in \u001b[0;36m<module>\u001b[1;34m\u001b[0m\n\u001b[1;32m----> 1\u001b[1;33m \u001b[0mcontoh\u001b[0m\u001b[1;33m(\u001b[0m\u001b[1;33m-\u001b[0m\u001b[1;36m1\u001b[0m\u001b[1;33m)\u001b[0m\u001b[1;33m\u001b[0m\u001b[1;33m\u001b[0m\u001b[0m\n\u001b[0m",
      "\u001b[1;31mTypeError\u001b[0m: 'str' object is not callable"
     ]
    }
   ],
   "source": [
    "#untuk memanggil harus menggunakan kurung siku\n",
    "contoh(-1)"
   ]
  },
  {
   "cell_type": "code",
   "execution_count": 12,
   "id": "15f3f60d",
   "metadata": {},
   "outputs": [
    {
     "data": {
      "text/plain": [
       "'elona menang hari in'"
      ]
     },
     "execution_count": 12,
     "metadata": {},
     "output_type": "execute_result"
    }
   ],
   "source": [
    "contoh[-21:-1]"
   ]
  },
  {
   "cell_type": "code",
   "execution_count": 13,
   "id": "c7ed630a",
   "metadata": {},
   "outputs": [
    {
     "data": {
      "text/plain": [
       "' ini'"
      ]
     },
     "execution_count": 13,
     "metadata": {},
     "output_type": "execute_result"
    }
   ],
   "source": [
    "contoh[21:]"
   ]
  },
  {
   "cell_type": "code",
   "execution_count": 14,
   "id": "3e1fbc6a",
   "metadata": {},
   "outputs": [
    {
     "data": {
      "text/plain": [
       "'barcelona menang hari ini'"
      ]
     },
     "execution_count": 14,
     "metadata": {},
     "output_type": "execute_result"
    }
   ],
   "source": [
    "contoh[:]"
   ]
  },
  {
   "cell_type": "code",
   "execution_count": 15,
   "id": "1c8a6014",
   "metadata": {},
   "outputs": [
    {
     "data": {
      "text/plain": [
       "'rlaenhin'"
      ]
     },
     "execution_count": 15,
     "metadata": {},
     "output_type": "execute_result"
    }
   ],
   "source": [
    "contoh[2::3]"
   ]
  },
  {
   "cell_type": "code",
   "execution_count": 17,
   "id": "c859e200",
   "metadata": {},
   "outputs": [
    {
     "data": {
      "text/plain": [
       "'barcelona menang hari in'"
      ]
     },
     "execution_count": 17,
     "metadata": {},
     "output_type": "execute_result"
    }
   ],
   "source": [
    "contoh[:-1]"
   ]
  },
  {
   "cell_type": "code",
   "execution_count": 18,
   "id": "d5b5e5d6",
   "metadata": {},
   "outputs": [
    {
     "data": {
      "text/plain": [
       "'reoamnn aii'"
      ]
     },
     "execution_count": 18,
     "metadata": {},
     "output_type": "execute_result"
    }
   ],
   "source": [
    "contoh[2:-1:2]"
   ]
  },
  {
   "cell_type": "code",
   "execution_count": 22,
   "id": "ed953a60",
   "metadata": {},
   "outputs": [
    {
     "data": {
      "text/plain": [
       "'reoamnn a'"
      ]
     },
     "execution_count": 22,
     "metadata": {},
     "output_type": "execute_result"
    }
   ],
   "source": [
    "contoh[2:-5:2]"
   ]
  },
  {
   "cell_type": "code",
   "execution_count": 23,
   "id": "5e1fb48c",
   "metadata": {},
   "outputs": [
    {
     "data": {
      "text/plain": [
       "25"
      ]
     },
     "execution_count": 23,
     "metadata": {},
     "output_type": "execute_result"
    }
   ],
   "source": [
    "len(contoh)"
   ]
  },
  {
   "cell_type": "code",
   "execution_count": 26,
   "id": "fb55da0e",
   "metadata": {},
   "outputs": [],
   "source": [
    "unud = \"universitas udayana adalah niversitas tertua dibali dia menjadi salah satu universitas dari sekian banyak universitas yang ada di bali\""
   ]
  },
  {
   "cell_type": "code",
   "execution_count": 28,
   "id": "dff384cc",
   "metadata": {},
   "outputs": [
    {
     "data": {
      "text/plain": [
       "134"
      ]
     },
     "execution_count": 28,
     "metadata": {},
     "output_type": "execute_result"
    }
   ],
   "source": [
    "len(unud)"
   ]
  },
  {
   "cell_type": "code",
   "execution_count": 34,
   "id": "2f2f633c",
   "metadata": {},
   "outputs": [
    {
     "data": {
      "text/plain": [
       "10"
      ]
     },
     "execution_count": 34,
     "metadata": {},
     "output_type": "execute_result"
    }
   ],
   "source": [
    "contoh.find(\"menang\")"
   ]
  },
  {
   "cell_type": "code",
   "execution_count": 37,
   "id": "252246ae",
   "metadata": {},
   "outputs": [
    {
     "data": {
      "text/plain": [
       "0"
      ]
     },
     "execution_count": 37,
     "metadata": {},
     "output_type": "execute_result"
    }
   ],
   "source": [
    "unud.find(\"universitas\")"
   ]
  },
  {
   "cell_type": "markdown",
   "id": "93cc20e3",
   "metadata": {},
   "source": [
    "# string method"
   ]
  },
  {
   "cell_type": "code",
   "execution_count": 38,
   "id": "c4c615ba",
   "metadata": {},
   "outputs": [],
   "source": [
    "coba = \"Messi Juara Dunia\""
   ]
  },
  {
   "cell_type": "code",
   "execution_count": 39,
   "id": "6bf078f2",
   "metadata": {},
   "outputs": [
    {
     "name": "stdout",
     "output_type": "stream",
     "text": [
      "17\n"
     ]
    }
   ],
   "source": [
    "print(len(coba))"
   ]
  },
  {
   "cell_type": "code",
   "execution_count": 40,
   "id": "feda9a61",
   "metadata": {},
   "outputs": [
    {
     "data": {
      "text/plain": [
       "'MESSI JUARA DUNIA'"
      ]
     },
     "execution_count": 40,
     "metadata": {},
     "output_type": "execute_result"
    }
   ],
   "source": [
    "coba.upper()"
   ]
  },
  {
   "cell_type": "code",
   "execution_count": 41,
   "id": "3f9f3fbd",
   "metadata": {},
   "outputs": [
    {
     "ename": "TypeError",
     "evalue": "'builtin_function_or_method' object is not subscriptable",
     "output_type": "error",
     "traceback": [
      "\u001b[1;31m---------------------------------------------------------------------------\u001b[0m",
      "\u001b[1;31mTypeError\u001b[0m                                 Traceback (most recent call last)",
      "\u001b[1;32m~\\AppData\\Local\\Temp\\ipykernel_5520\\3408705086.py\u001b[0m in \u001b[0;36m<module>\u001b[1;34m\u001b[0m\n\u001b[1;32m----> 1\u001b[1;33m \u001b[0mcoba\u001b[0m\u001b[1;33m.\u001b[0m\u001b[0mupper\u001b[0m\u001b[1;33m[\u001b[0m\u001b[1;36m0\u001b[0m\u001b[1;33m:\u001b[0m\u001b[1;36m6\u001b[0m\u001b[1;33m]\u001b[0m\u001b[1;33m\u001b[0m\u001b[1;33m\u001b[0m\u001b[0m\n\u001b[0m",
      "\u001b[1;31mTypeError\u001b[0m: 'builtin_function_or_method' object is not subscriptable"
     ]
    }
   ],
   "source": [
    "#belum tau cara memilih beberapa huruf dijadikan kapital\n",
    "coba.upper[0:6]"
   ]
  },
  {
   "cell_type": "code",
   "execution_count": 43,
   "id": "49fcd934",
   "metadata": {},
   "outputs": [
    {
     "data": {
      "text/plain": [
       "'messi juara dunia'"
      ]
     },
     "execution_count": 43,
     "metadata": {},
     "output_type": "execute_result"
    }
   ],
   "source": [
    "coba.lower()"
   ]
  },
  {
   "cell_type": "code",
   "execution_count": 44,
   "id": "31973843",
   "metadata": {},
   "outputs": [
    {
     "data": {
      "text/plain": [
       "-1"
      ]
     },
     "execution_count": 44,
     "metadata": {},
     "output_type": "execute_result"
    }
   ],
   "source": [
    "coba.find(\"juara\")"
   ]
  },
  {
   "cell_type": "code",
   "execution_count": 45,
   "id": "71892895",
   "metadata": {},
   "outputs": [
    {
     "data": {
      "text/plain": [
       "6"
      ]
     },
     "execution_count": 45,
     "metadata": {},
     "output_type": "execute_result"
    }
   ],
   "source": [
    "coba.find(\"Juara\")"
   ]
  },
  {
   "cell_type": "code",
   "execution_count": 46,
   "id": "c16d7be5",
   "metadata": {},
   "outputs": [
    {
     "data": {
      "text/plain": [
       "'Messi Pemain terbaik Dunia'"
      ]
     },
     "execution_count": 46,
     "metadata": {},
     "output_type": "execute_result"
    }
   ],
   "source": [
    "coba.replace(\"Juara\", 'Pemain terbaik')"
   ]
  },
  {
   "cell_type": "code",
   "execution_count": 47,
   "id": "c960e5ee",
   "metadata": {},
   "outputs": [
    {
     "data": {
      "text/plain": [
       "'Messi Juara Dunia'"
      ]
     },
     "execution_count": 47,
     "metadata": {},
     "output_type": "execute_result"
    }
   ],
   "source": [
    "coba.replace(\"Pemain terbaik\", 'Seluruh')"
   ]
  },
  {
   "cell_type": "code",
   "execution_count": 49,
   "id": "44a9d71b",
   "metadata": {},
   "outputs": [
    {
     "name": "stdout",
     "output_type": "stream",
     "text": [
      "True\n"
     ]
    }
   ],
   "source": [
    "print('Juara' in coba)"
   ]
  },
  {
   "cell_type": "code",
   "execution_count": 50,
   "id": "cf424164",
   "metadata": {},
   "outputs": [
    {
     "name": "stdout",
     "output_type": "stream",
     "text": [
      "False\n"
     ]
    }
   ],
   "source": [
    "print('juara' in coba)"
   ]
  },
  {
   "cell_type": "code",
   "execution_count": 52,
   "id": "de25b037",
   "metadata": {},
   "outputs": [
    {
     "data": {
      "text/plain": [
       "'MESSI J'"
      ]
     },
     "execution_count": 52,
     "metadata": {},
     "output_type": "execute_result"
    }
   ],
   "source": [
    "coba[0:7].upper()"
   ]
  },
  {
   "cell_type": "code",
   "execution_count": 55,
   "id": "ae7da077",
   "metadata": {},
   "outputs": [
    {
     "name": "stdout",
     "output_type": "stream",
     "text": [
      "Messi JUARAMessi Juara Dunia\n"
     ]
    }
   ],
   "source": [
    "print(coba[0:7]+coba[7:11].upper()+coba[:])"
   ]
  },
  {
   "cell_type": "code",
   "execution_count": 56,
   "id": "9eed4736",
   "metadata": {},
   "outputs": [
    {
     "name": "stdout",
     "output_type": "stream",
     "text": [
      "Messi JUARA Dunia\n"
     ]
    }
   ],
   "source": [
    "print(coba[0:7]+coba[7:11].upper()+coba[11:17])"
   ]
  },
  {
   "cell_type": "markdown",
   "id": "0a68a199",
   "metadata": {},
   "source": [
    "# Operasi Matematika "
   ]
  },
  {
   "cell_type": "code",
   "execution_count": 9,
   "id": "7cdea3b5",
   "metadata": {},
   "outputs": [
    {
     "name": "stdout",
     "output_type": "stream",
     "text": [
      "8\n"
     ]
    }
   ],
   "source": [
    "x1 = 3\n",
    "y1 = 5\n",
    "print(x1+y1)"
   ]
  },
  {
   "cell_type": "code",
   "execution_count": 10,
   "id": "782a52af",
   "metadata": {},
   "outputs": [
    {
     "name": "stdout",
     "output_type": "stream",
     "text": [
      "-2\n"
     ]
    }
   ],
   "source": [
    "print(x1-y1)"
   ]
  },
  {
   "cell_type": "code",
   "execution_count": 11,
   "id": "58beaade",
   "metadata": {},
   "outputs": [
    {
     "name": "stdout",
     "output_type": "stream",
     "text": [
      "15\n"
     ]
    }
   ],
   "source": [
    "print(x1*y1)"
   ]
  },
  {
   "cell_type": "code",
   "execution_count": 12,
   "id": "8e0c7253",
   "metadata": {},
   "outputs": [
    {
     "name": "stdout",
     "output_type": "stream",
     "text": [
      "0.6\n"
     ]
    }
   ],
   "source": [
    "print(x1/y1)"
   ]
  },
  {
   "cell_type": "code",
   "execution_count": 14,
   "id": "cd38536e",
   "metadata": {},
   "outputs": [
    {
     "name": "stdout",
     "output_type": "stream",
     "text": [
      "1\n"
     ]
    }
   ],
   "source": [
    "print(y1//x1)"
   ]
  },
  {
   "cell_type": "code",
   "execution_count": 16,
   "id": "6b445a4e",
   "metadata": {},
   "outputs": [
    {
     "name": "stdout",
     "output_type": "stream",
     "text": [
      "2\n"
     ]
    }
   ],
   "source": [
    "print(y1%x1)"
   ]
  },
  {
   "cell_type": "code",
   "execution_count": 17,
   "id": "1196d227",
   "metadata": {},
   "outputs": [
    {
     "name": "stdout",
     "output_type": "stream",
     "text": [
      "243\n"
     ]
    }
   ],
   "source": [
    "print(x1**y1)"
   ]
  },
  {
   "cell_type": "code",
   "execution_count": 60,
   "id": "90e2a1d4",
   "metadata": {},
   "outputs": [
    {
     "name": "stdout",
     "output_type": "stream",
     "text": [
      "4\n"
     ]
    }
   ],
   "source": [
    "x=2\n",
    "x += 2\n",
    "print(x)"
   ]
  },
  {
   "cell_type": "markdown",
   "id": "f8ef9536",
   "metadata": {},
   "source": [
    "# Operasi Perbandingan"
   ]
  },
  {
   "cell_type": "code",
   "execution_count": 61,
   "id": "d85ae234",
   "metadata": {},
   "outputs": [
    {
     "name": "stdout",
     "output_type": "stream",
     "text": [
      "True\n"
     ]
    }
   ],
   "source": [
    "x= 3>2\n",
    "print(x)"
   ]
  },
  {
   "cell_type": "code",
   "execution_count": 63,
   "id": "75324ef0",
   "metadata": {},
   "outputs": [
    {
     "name": "stdout",
     "output_type": "stream",
     "text": [
      "False\n"
     ]
    }
   ],
   "source": [
    "x=3<2\n",
    "print(x)"
   ]
  },
  {
   "cell_type": "code",
   "execution_count": 65,
   "id": "af0752ab",
   "metadata": {},
   "outputs": [
    {
     "name": "stdout",
     "output_type": "stream",
     "text": [
      "True\n"
     ]
    }
   ],
   "source": [
    "x= 3>=3\n",
    "print(x)"
   ]
  },
  {
   "cell_type": "code",
   "execution_count": 66,
   "id": "0bbffb6d",
   "metadata": {},
   "outputs": [
    {
     "name": "stdout",
     "output_type": "stream",
     "text": [
      "True\n"
     ]
    }
   ],
   "source": [
    "x= 3!=4\n",
    "print(x)"
   ]
  },
  {
   "cell_type": "markdown",
   "id": "f01e4dd5",
   "metadata": {},
   "source": [
    "# Operator Logika "
   ]
  },
  {
   "cell_type": "code",
   "execution_count": 3,
   "id": "abcbe634",
   "metadata": {},
   "outputs": [],
   "source": [
    "nilai_14 = 85\n",
    "nilai_15 =95"
   ]
  },
  {
   "cell_type": "code",
   "execution_count": 4,
   "id": "5ddfff47",
   "metadata": {
    "scrolled": true
   },
   "outputs": [
    {
     "name": "stdout",
     "output_type": "stream",
     "text": [
      "True\n"
     ]
    }
   ],
   "source": [
    "print(nilai_14 > 75 and nilai_15 <100)"
   ]
  },
  {
   "cell_type": "code",
   "execution_count": 20,
   "id": "fd65b5c2",
   "metadata": {
    "scrolled": false
   },
   "outputs": [
    {
     "name": "stdout",
     "output_type": "stream",
     "text": [
      "False\n"
     ]
    }
   ],
   "source": [
    "print(nilai_14 < 75 and nilai_15 <100)"
   ]
  },
  {
   "cell_type": "code",
   "execution_count": 21,
   "id": "a9633823",
   "metadata": {
    "scrolled": false
   },
   "outputs": [
    {
     "name": "stdout",
     "output_type": "stream",
     "text": [
      "False\n"
     ]
    }
   ],
   "source": [
    "print(nilai_14 < 75 and nilai_15 >100)"
   ]
  },
  {
   "cell_type": "code",
   "execution_count": 5,
   "id": "99173003",
   "metadata": {},
   "outputs": [
    {
     "name": "stdout",
     "output_type": "stream",
     "text": [
      "True\n"
     ]
    }
   ],
   "source": [
    "print(nilai_14 >90 or nilai_15 > 90)"
   ]
  },
  {
   "cell_type": "code",
   "execution_count": 23,
   "id": "9b0e7659",
   "metadata": {
    "scrolled": true
   },
   "outputs": [
    {
     "name": "stdout",
     "output_type": "stream",
     "text": [
      "False\n"
     ]
    }
   ],
   "source": [
    "print(nilai_14 >90 or nilai_15 < 90)"
   ]
  },
  {
   "cell_type": "code",
   "execution_count": 24,
   "id": "51012ff4",
   "metadata": {
    "scrolled": true
   },
   "outputs": [
    {
     "name": "stdout",
     "output_type": "stream",
     "text": [
      "True\n"
     ]
    }
   ],
   "source": [
    "print(nilai_14 <90 or nilai_15 < 90)"
   ]
  },
  {
   "cell_type": "code",
   "execution_count": 26,
   "id": "0b3ee7ca",
   "metadata": {
    "scrolled": true
   },
   "outputs": [
    {
     "name": "stdout",
     "output_type": "stream",
     "text": [
      "True\n"
     ]
    }
   ],
   "source": [
    "print(nilai_14 >90 or nilai_15 > 90)"
   ]
  },
  {
   "cell_type": "code",
   "execution_count": 6,
   "id": "2574b688",
   "metadata": {},
   "outputs": [
    {
     "name": "stdout",
     "output_type": "stream",
     "text": [
      "True\n"
     ]
    }
   ],
   "source": [
    "print(not(nilai_14>75 and nilai_15<75))"
   ]
  },
  {
   "cell_type": "markdown",
   "id": "27d08ecc",
   "metadata": {},
   "source": [
    "# operator if"
   ]
  },
  {
   "cell_type": "code",
   "execution_count": 2,
   "id": "e0b20421",
   "metadata": {},
   "outputs": [],
   "source": [
    "#operator if bekerja jika sudah memenuhi syarat"
   ]
  },
  {
   "cell_type": "code",
   "execution_count": 22,
   "id": "652a656d",
   "metadata": {},
   "outputs": [
    {
     "name": "stdout",
     "output_type": "stream",
     "text": [
      "24\n"
     ]
    }
   ],
   "source": [
    "buah1 = 4\n",
    "buah2 = 6\n",
    "if (buah1 >=3):\n",
    "    buah2= buah1*buah2\n",
    "    buah1= buah1+1\n",
    "print(buah2)"
   ]
  },
  {
   "cell_type": "code",
   "execution_count": 23,
   "id": "4aec6e4b",
   "metadata": {},
   "outputs": [
    {
     "name": "stdout",
     "output_type": "stream",
     "text": [
      "5\n"
     ]
    }
   ],
   "source": [
    "buah1 = 3\n",
    "buah2 = 5\n",
    "if(buah1)>=4:\n",
    "    buah2=buah1*buah1*2\n",
    "    buah1=buah1+2\n",
    "print(buah2)"
   ]
  }
 ],
 "metadata": {
  "kernelspec": {
   "display_name": "Python 3 (ipykernel)",
   "language": "python",
   "name": "python3"
  },
  "language_info": {
   "codemirror_mode": {
    "name": "ipython",
    "version": 3
   },
   "file_extension": ".py",
   "mimetype": "text/x-python",
   "name": "python",
   "nbconvert_exporter": "python",
   "pygments_lexer": "ipython3",
   "version": "3.9.13"
  }
 },
 "nbformat": 4,
 "nbformat_minor": 5
}
